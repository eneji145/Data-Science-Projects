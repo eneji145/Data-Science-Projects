{
 "cells": [
  {
   "cell_type": "code",
   "execution_count": 285,
   "id": "bad17394",
   "metadata": {},
   "outputs": [],
   "source": [
    "import pandas as pd\n",
    "import numpy as np\n",
    "import matplotlib.pyplot as plt\n",
    "import seaborn as sns"
   ]
  },
  {
   "cell_type": "code",
   "execution_count": 495,
   "id": "8aeae5e9",
   "metadata": {},
   "outputs": [],
   "source": [
    "Data = pd.read_csv('automobile.csv')"
   ]
  },
  {
   "cell_type": "code",
   "execution_count": 496,
   "id": "e47a278d",
   "metadata": {},
   "outputs": [
    {
     "data": {
      "text/html": [
       "<div>\n",
       "<style scoped>\n",
       "    .dataframe tbody tr th:only-of-type {\n",
       "        vertical-align: middle;\n",
       "    }\n",
       "\n",
       "    .dataframe tbody tr th {\n",
       "        vertical-align: top;\n",
       "    }\n",
       "\n",
       "    .dataframe thead th {\n",
       "        text-align: right;\n",
       "    }\n",
       "</style>\n",
       "<table border=\"1\" class=\"dataframe\">\n",
       "  <thead>\n",
       "    <tr style=\"text-align: right;\">\n",
       "      <th></th>\n",
       "      <th>symboling</th>\n",
       "      <th>normalized-losses</th>\n",
       "      <th>make</th>\n",
       "      <th>fuel-type</th>\n",
       "      <th>aspiration</th>\n",
       "      <th>num-of-doors</th>\n",
       "      <th>body-style</th>\n",
       "      <th>drive-wheels</th>\n",
       "      <th>engine-location</th>\n",
       "      <th>wheel-base</th>\n",
       "      <th>...</th>\n",
       "      <th>engine-size</th>\n",
       "      <th>fuel-system</th>\n",
       "      <th>bore</th>\n",
       "      <th>stroke</th>\n",
       "      <th>compression-ratio</th>\n",
       "      <th>horsepower</th>\n",
       "      <th>peak-rpm</th>\n",
       "      <th>city-mpg</th>\n",
       "      <th>highway-mpg</th>\n",
       "      <th>price</th>\n",
       "    </tr>\n",
       "  </thead>\n",
       "  <tbody>\n",
       "    <tr>\n",
       "      <th>0</th>\n",
       "      <td>3</td>\n",
       "      <td>NaN</td>\n",
       "      <td>alfa-romero</td>\n",
       "      <td>gas</td>\n",
       "      <td>std</td>\n",
       "      <td>two</td>\n",
       "      <td>convertible</td>\n",
       "      <td>rwd</td>\n",
       "      <td>front</td>\n",
       "      <td>88.6</td>\n",
       "      <td>...</td>\n",
       "      <td>130</td>\n",
       "      <td>mpfi</td>\n",
       "      <td>3.47</td>\n",
       "      <td>2.68</td>\n",
       "      <td>9.0</td>\n",
       "      <td>111.0</td>\n",
       "      <td>5000.0</td>\n",
       "      <td>21</td>\n",
       "      <td>27</td>\n",
       "      <td>16500</td>\n",
       "    </tr>\n",
       "    <tr>\n",
       "      <th>1</th>\n",
       "      <td>1</td>\n",
       "      <td>NaN</td>\n",
       "      <td>alfa-romero</td>\n",
       "      <td>gas</td>\n",
       "      <td>std</td>\n",
       "      <td>two</td>\n",
       "      <td>hatchback</td>\n",
       "      <td>rwd</td>\n",
       "      <td>front</td>\n",
       "      <td>94.5</td>\n",
       "      <td>...</td>\n",
       "      <td>152</td>\n",
       "      <td>mpfi</td>\n",
       "      <td>2.68</td>\n",
       "      <td>3.47</td>\n",
       "      <td>9.0</td>\n",
       "      <td>154.0</td>\n",
       "      <td>5000.0</td>\n",
       "      <td>19</td>\n",
       "      <td>26</td>\n",
       "      <td>16500</td>\n",
       "    </tr>\n",
       "    <tr>\n",
       "      <th>2</th>\n",
       "      <td>2</td>\n",
       "      <td>164.0</td>\n",
       "      <td>audi</td>\n",
       "      <td>gas</td>\n",
       "      <td>std</td>\n",
       "      <td>four</td>\n",
       "      <td>sedan</td>\n",
       "      <td>fwd</td>\n",
       "      <td>front</td>\n",
       "      <td>99.8</td>\n",
       "      <td>...</td>\n",
       "      <td>109</td>\n",
       "      <td>mpfi</td>\n",
       "      <td>3.19</td>\n",
       "      <td>3.40</td>\n",
       "      <td>10.0</td>\n",
       "      <td>102.0</td>\n",
       "      <td>5500.0</td>\n",
       "      <td>24</td>\n",
       "      <td>30</td>\n",
       "      <td>13950</td>\n",
       "    </tr>\n",
       "    <tr>\n",
       "      <th>3</th>\n",
       "      <td>2</td>\n",
       "      <td>164.0</td>\n",
       "      <td>audi</td>\n",
       "      <td>gas</td>\n",
       "      <td>std</td>\n",
       "      <td>four</td>\n",
       "      <td>sedan</td>\n",
       "      <td>4wd</td>\n",
       "      <td>front</td>\n",
       "      <td>99.4</td>\n",
       "      <td>...</td>\n",
       "      <td>136</td>\n",
       "      <td>mpfi</td>\n",
       "      <td>3.19</td>\n",
       "      <td>3.40</td>\n",
       "      <td>8.0</td>\n",
       "      <td>115.0</td>\n",
       "      <td>5500.0</td>\n",
       "      <td>18</td>\n",
       "      <td>22</td>\n",
       "      <td>17450</td>\n",
       "    </tr>\n",
       "    <tr>\n",
       "      <th>4</th>\n",
       "      <td>2</td>\n",
       "      <td>NaN</td>\n",
       "      <td>audi</td>\n",
       "      <td>gas</td>\n",
       "      <td>std</td>\n",
       "      <td>two</td>\n",
       "      <td>sedan</td>\n",
       "      <td>fwd</td>\n",
       "      <td>front</td>\n",
       "      <td>99.8</td>\n",
       "      <td>...</td>\n",
       "      <td>136</td>\n",
       "      <td>mpfi</td>\n",
       "      <td>3.19</td>\n",
       "      <td>3.40</td>\n",
       "      <td>8.5</td>\n",
       "      <td>110.0</td>\n",
       "      <td>5500.0</td>\n",
       "      <td>19</td>\n",
       "      <td>25</td>\n",
       "      <td>15250</td>\n",
       "    </tr>\n",
       "  </tbody>\n",
       "</table>\n",
       "<p>5 rows × 26 columns</p>\n",
       "</div>"
      ],
      "text/plain": [
       "   symboling  normalized-losses         make fuel-type aspiration  \\\n",
       "0          3                NaN  alfa-romero       gas        std   \n",
       "1          1                NaN  alfa-romero       gas        std   \n",
       "2          2              164.0         audi       gas        std   \n",
       "3          2              164.0         audi       gas        std   \n",
       "4          2                NaN         audi       gas        std   \n",
       "\n",
       "  num-of-doors   body-style drive-wheels engine-location  wheel-base  ...  \\\n",
       "0          two  convertible          rwd           front        88.6  ...   \n",
       "1          two    hatchback          rwd           front        94.5  ...   \n",
       "2         four        sedan          fwd           front        99.8  ...   \n",
       "3         four        sedan          4wd           front        99.4  ...   \n",
       "4          two        sedan          fwd           front        99.8  ...   \n",
       "\n",
       "   engine-size  fuel-system  bore  stroke compression-ratio horsepower  \\\n",
       "0          130         mpfi  3.47    2.68               9.0      111.0   \n",
       "1          152         mpfi  2.68    3.47               9.0      154.0   \n",
       "2          109         mpfi  3.19    3.40              10.0      102.0   \n",
       "3          136         mpfi  3.19    3.40               8.0      115.0   \n",
       "4          136         mpfi  3.19    3.40               8.5      110.0   \n",
       "\n",
       "   peak-rpm city-mpg  highway-mpg  price  \n",
       "0    5000.0       21           27  16500  \n",
       "1    5000.0       19           26  16500  \n",
       "2    5500.0       24           30  13950  \n",
       "3    5500.0       18           22  17450  \n",
       "4    5500.0       19           25  15250  \n",
       "\n",
       "[5 rows x 26 columns]"
      ]
     },
     "execution_count": 496,
     "metadata": {},
     "output_type": "execute_result"
    }
   ],
   "source": [
    "Data.head()"
   ]
  },
  {
   "cell_type": "code",
   "execution_count": 497,
   "id": "7c78d7b4",
   "metadata": {},
   "outputs": [
    {
     "data": {
      "text/plain": [
       "(200, 26)"
      ]
     },
     "execution_count": 497,
     "metadata": {},
     "output_type": "execute_result"
    }
   ],
   "source": [
    "Data.shape"
   ]
  },
  {
   "cell_type": "code",
   "execution_count": 498,
   "id": "ad55e36b",
   "metadata": {
    "scrolled": false
   },
   "outputs": [
    {
     "name": "stdout",
     "output_type": "stream",
     "text": [
      "<class 'pandas.core.frame.DataFrame'>\n",
      "RangeIndex: 200 entries, 0 to 199\n",
      "Data columns (total 26 columns):\n",
      " #   Column             Non-Null Count  Dtype  \n",
      "---  ------             --------------  -----  \n",
      " 0   symboling          200 non-null    int64  \n",
      " 1   normalized-losses  164 non-null    float64\n",
      " 2   make               200 non-null    object \n",
      " 3   fuel-type          200 non-null    object \n",
      " 4   aspiration         200 non-null    object \n",
      " 5   num-of-doors       198 non-null    object \n",
      " 6   body-style         200 non-null    object \n",
      " 7   drive-wheels       200 non-null    object \n",
      " 8   engine-location    200 non-null    object \n",
      " 9   wheel-base         200 non-null    float64\n",
      " 10  length             200 non-null    float64\n",
      " 11  width              200 non-null    float64\n",
      " 12  height             200 non-null    float64\n",
      " 13  curb-weight        200 non-null    int64  \n",
      " 14  engine-type        200 non-null    object \n",
      " 15  num-of-cylinders   200 non-null    object \n",
      " 16  engine-size        200 non-null    int64  \n",
      " 17  fuel-system        200 non-null    object \n",
      " 18  bore               196 non-null    float64\n",
      " 19  stroke             196 non-null    float64\n",
      " 20  compression-ratio  200 non-null    float64\n",
      " 21  horsepower         198 non-null    float64\n",
      " 22  peak-rpm           198 non-null    float64\n",
      " 23  city-mpg           200 non-null    int64  \n",
      " 24  highway-mpg        200 non-null    int64  \n",
      " 25  price              200 non-null    int64  \n",
      "dtypes: float64(10), int64(6), object(10)\n",
      "memory usage: 40.8+ KB\n"
     ]
    }
   ],
   "source": [
    "Data.info()"
   ]
  },
  {
   "cell_type": "code",
   "execution_count": 499,
   "id": "15f8e204",
   "metadata": {},
   "outputs": [
    {
     "data": {
      "text/html": [
       "<div>\n",
       "<style scoped>\n",
       "    .dataframe tbody tr th:only-of-type {\n",
       "        vertical-align: middle;\n",
       "    }\n",
       "\n",
       "    .dataframe tbody tr th {\n",
       "        vertical-align: top;\n",
       "    }\n",
       "\n",
       "    .dataframe thead th {\n",
       "        text-align: right;\n",
       "    }\n",
       "</style>\n",
       "<table border=\"1\" class=\"dataframe\">\n",
       "  <thead>\n",
       "    <tr style=\"text-align: right;\">\n",
       "      <th></th>\n",
       "      <th>symboling</th>\n",
       "      <th>normalized-losses</th>\n",
       "      <th>wheel-base</th>\n",
       "      <th>length</th>\n",
       "      <th>width</th>\n",
       "      <th>height</th>\n",
       "      <th>curb-weight</th>\n",
       "      <th>engine-size</th>\n",
       "      <th>bore</th>\n",
       "      <th>stroke</th>\n",
       "      <th>compression-ratio</th>\n",
       "      <th>horsepower</th>\n",
       "      <th>peak-rpm</th>\n",
       "      <th>city-mpg</th>\n",
       "      <th>highway-mpg</th>\n",
       "      <th>price</th>\n",
       "    </tr>\n",
       "  </thead>\n",
       "  <tbody>\n",
       "    <tr>\n",
       "      <th>count</th>\n",
       "      <td>200.000000</td>\n",
       "      <td>164.000000</td>\n",
       "      <td>200.000000</td>\n",
       "      <td>200.000000</td>\n",
       "      <td>200.000000</td>\n",
       "      <td>200.000000</td>\n",
       "      <td>200.000000</td>\n",
       "      <td>200.000000</td>\n",
       "      <td>196.000000</td>\n",
       "      <td>196.000000</td>\n",
       "      <td>200.000000</td>\n",
       "      <td>198.000000</td>\n",
       "      <td>198.000000</td>\n",
       "      <td>200.000000</td>\n",
       "      <td>200.000000</td>\n",
       "      <td>200.000000</td>\n",
       "    </tr>\n",
       "    <tr>\n",
       "      <th>mean</th>\n",
       "      <td>0.830000</td>\n",
       "      <td>122.000000</td>\n",
       "      <td>98.848000</td>\n",
       "      <td>174.228000</td>\n",
       "      <td>65.898000</td>\n",
       "      <td>53.791500</td>\n",
       "      <td>2555.705000</td>\n",
       "      <td>126.860000</td>\n",
       "      <td>3.330000</td>\n",
       "      <td>3.259847</td>\n",
       "      <td>10.170100</td>\n",
       "      <td>103.358586</td>\n",
       "      <td>5118.181818</td>\n",
       "      <td>25.200000</td>\n",
       "      <td>30.705000</td>\n",
       "      <td>13205.690000</td>\n",
       "    </tr>\n",
       "    <tr>\n",
       "      <th>std</th>\n",
       "      <td>1.248557</td>\n",
       "      <td>35.442168</td>\n",
       "      <td>6.038261</td>\n",
       "      <td>12.347132</td>\n",
       "      <td>2.102904</td>\n",
       "      <td>2.428449</td>\n",
       "      <td>518.594552</td>\n",
       "      <td>41.650501</td>\n",
       "      <td>0.271303</td>\n",
       "      <td>0.317383</td>\n",
       "      <td>4.014163</td>\n",
       "      <td>37.645120</td>\n",
       "      <td>481.666657</td>\n",
       "      <td>6.432487</td>\n",
       "      <td>6.827227</td>\n",
       "      <td>7966.982558</td>\n",
       "    </tr>\n",
       "    <tr>\n",
       "      <th>min</th>\n",
       "      <td>-2.000000</td>\n",
       "      <td>65.000000</td>\n",
       "      <td>86.600000</td>\n",
       "      <td>141.100000</td>\n",
       "      <td>60.300000</td>\n",
       "      <td>47.800000</td>\n",
       "      <td>1488.000000</td>\n",
       "      <td>61.000000</td>\n",
       "      <td>2.540000</td>\n",
       "      <td>2.070000</td>\n",
       "      <td>7.000000</td>\n",
       "      <td>48.000000</td>\n",
       "      <td>4150.000000</td>\n",
       "      <td>13.000000</td>\n",
       "      <td>16.000000</td>\n",
       "      <td>5118.000000</td>\n",
       "    </tr>\n",
       "    <tr>\n",
       "      <th>25%</th>\n",
       "      <td>0.000000</td>\n",
       "      <td>94.000000</td>\n",
       "      <td>94.500000</td>\n",
       "      <td>166.675000</td>\n",
       "      <td>64.175000</td>\n",
       "      <td>52.000000</td>\n",
       "      <td>2163.000000</td>\n",
       "      <td>97.750000</td>\n",
       "      <td>3.150000</td>\n",
       "      <td>3.110000</td>\n",
       "      <td>8.575000</td>\n",
       "      <td>70.000000</td>\n",
       "      <td>4800.000000</td>\n",
       "      <td>19.000000</td>\n",
       "      <td>25.000000</td>\n",
       "      <td>7775.000000</td>\n",
       "    </tr>\n",
       "    <tr>\n",
       "      <th>50%</th>\n",
       "      <td>1.000000</td>\n",
       "      <td>115.000000</td>\n",
       "      <td>97.000000</td>\n",
       "      <td>173.200000</td>\n",
       "      <td>65.500000</td>\n",
       "      <td>54.100000</td>\n",
       "      <td>2414.000000</td>\n",
       "      <td>119.500000</td>\n",
       "      <td>3.310000</td>\n",
       "      <td>3.290000</td>\n",
       "      <td>9.000000</td>\n",
       "      <td>95.000000</td>\n",
       "      <td>5200.000000</td>\n",
       "      <td>24.000000</td>\n",
       "      <td>30.000000</td>\n",
       "      <td>10270.000000</td>\n",
       "    </tr>\n",
       "    <tr>\n",
       "      <th>75%</th>\n",
       "      <td>2.000000</td>\n",
       "      <td>150.000000</td>\n",
       "      <td>102.400000</td>\n",
       "      <td>183.500000</td>\n",
       "      <td>66.675000</td>\n",
       "      <td>55.525000</td>\n",
       "      <td>2928.250000</td>\n",
       "      <td>142.000000</td>\n",
       "      <td>3.590000</td>\n",
       "      <td>3.410000</td>\n",
       "      <td>9.400000</td>\n",
       "      <td>116.000000</td>\n",
       "      <td>5500.000000</td>\n",
       "      <td>30.000000</td>\n",
       "      <td>34.000000</td>\n",
       "      <td>16500.750000</td>\n",
       "    </tr>\n",
       "    <tr>\n",
       "      <th>max</th>\n",
       "      <td>3.000000</td>\n",
       "      <td>256.000000</td>\n",
       "      <td>120.900000</td>\n",
       "      <td>208.100000</td>\n",
       "      <td>72.000000</td>\n",
       "      <td>59.800000</td>\n",
       "      <td>4066.000000</td>\n",
       "      <td>326.000000</td>\n",
       "      <td>3.940000</td>\n",
       "      <td>4.170000</td>\n",
       "      <td>23.000000</td>\n",
       "      <td>262.000000</td>\n",
       "      <td>6600.000000</td>\n",
       "      <td>49.000000</td>\n",
       "      <td>54.000000</td>\n",
       "      <td>45400.000000</td>\n",
       "    </tr>\n",
       "  </tbody>\n",
       "</table>\n",
       "</div>"
      ],
      "text/plain": [
       "        symboling  normalized-losses  wheel-base      length       width  \\\n",
       "count  200.000000         164.000000  200.000000  200.000000  200.000000   \n",
       "mean     0.830000         122.000000   98.848000  174.228000   65.898000   \n",
       "std      1.248557          35.442168    6.038261   12.347132    2.102904   \n",
       "min     -2.000000          65.000000   86.600000  141.100000   60.300000   \n",
       "25%      0.000000          94.000000   94.500000  166.675000   64.175000   \n",
       "50%      1.000000         115.000000   97.000000  173.200000   65.500000   \n",
       "75%      2.000000         150.000000  102.400000  183.500000   66.675000   \n",
       "max      3.000000         256.000000  120.900000  208.100000   72.000000   \n",
       "\n",
       "           height  curb-weight  engine-size        bore      stroke  \\\n",
       "count  200.000000   200.000000   200.000000  196.000000  196.000000   \n",
       "mean    53.791500  2555.705000   126.860000    3.330000    3.259847   \n",
       "std      2.428449   518.594552    41.650501    0.271303    0.317383   \n",
       "min     47.800000  1488.000000    61.000000    2.540000    2.070000   \n",
       "25%     52.000000  2163.000000    97.750000    3.150000    3.110000   \n",
       "50%     54.100000  2414.000000   119.500000    3.310000    3.290000   \n",
       "75%     55.525000  2928.250000   142.000000    3.590000    3.410000   \n",
       "max     59.800000  4066.000000   326.000000    3.940000    4.170000   \n",
       "\n",
       "       compression-ratio  horsepower     peak-rpm    city-mpg  highway-mpg  \\\n",
       "count         200.000000  198.000000   198.000000  200.000000   200.000000   \n",
       "mean           10.170100  103.358586  5118.181818   25.200000    30.705000   \n",
       "std             4.014163   37.645120   481.666657    6.432487     6.827227   \n",
       "min             7.000000   48.000000  4150.000000   13.000000    16.000000   \n",
       "25%             8.575000   70.000000  4800.000000   19.000000    25.000000   \n",
       "50%             9.000000   95.000000  5200.000000   24.000000    30.000000   \n",
       "75%             9.400000  116.000000  5500.000000   30.000000    34.000000   \n",
       "max            23.000000  262.000000  6600.000000   49.000000    54.000000   \n",
       "\n",
       "              price  \n",
       "count    200.000000  \n",
       "mean   13205.690000  \n",
       "std     7966.982558  \n",
       "min     5118.000000  \n",
       "25%     7775.000000  \n",
       "50%    10270.000000  \n",
       "75%    16500.750000  \n",
       "max    45400.000000  "
      ]
     },
     "execution_count": 499,
     "metadata": {},
     "output_type": "execute_result"
    }
   ],
   "source": [
    "Data.describe()"
   ]
  },
  {
   "cell_type": "markdown",
   "id": "92a52a24",
   "metadata": {},
   "source": [
    "# CHECK THE DATA FOR MISSING VALUES"
   ]
  },
  {
   "cell_type": "code",
   "execution_count": 500,
   "id": "4cc7af71",
   "metadata": {},
   "outputs": [
    {
     "data": {
      "text/plain": [
       "symboling             0\n",
       "normalized-losses    36\n",
       "make                  0\n",
       "fuel-type             0\n",
       "aspiration            0\n",
       "num-of-doors          2\n",
       "body-style            0\n",
       "drive-wheels          0\n",
       "engine-location       0\n",
       "wheel-base            0\n",
       "length                0\n",
       "width                 0\n",
       "height                0\n",
       "curb-weight           0\n",
       "engine-type           0\n",
       "num-of-cylinders      0\n",
       "engine-size           0\n",
       "fuel-system           0\n",
       "bore                  4\n",
       "stroke                4\n",
       "compression-ratio     0\n",
       "horsepower            2\n",
       "peak-rpm              2\n",
       "city-mpg              0\n",
       "highway-mpg           0\n",
       "price                 0\n",
       "dtype: int64"
      ]
     },
     "execution_count": 500,
     "metadata": {},
     "output_type": "execute_result"
    }
   ],
   "source": [
    "Data.isnull().sum()"
   ]
  },
  {
   "cell_type": "markdown",
   "id": "701a205c",
   "metadata": {},
   "source": [
    "normalized-losses, num-of-doors, bore, stroke, horsepower, peak-rpm have missing values"
   ]
  },
  {
   "cell_type": "markdown",
   "id": "52b1b0ca",
   "metadata": {},
   "source": [
    "# HANDLE MISSING VALUES"
   ]
  },
  {
   "cell_type": "markdown",
   "id": "e1fab8ef",
   "metadata": {},
   "source": [
    "To handle the missing values in the normalized-losses column, we will make use of the median value as it is more robust to outliers"
   ]
  },
  {
   "cell_type": "code",
   "execution_count": 501,
   "id": "595deaab",
   "metadata": {},
   "outputs": [],
   "source": [
    "nl = Data[\"normalized-losses\"].median()"
   ]
  },
  {
   "cell_type": "code",
   "execution_count": 502,
   "id": "7672b6f2",
   "metadata": {},
   "outputs": [],
   "source": [
    "Data[\"normalized-losses\"].replace(np.nan, nl, inplace = True)"
   ]
  },
  {
   "cell_type": "markdown",
   "id": "6e66a4bd",
   "metadata": {},
   "source": [
    "To handle the missing values in the num-of-doors column, we will make use of the mode because it is an object"
   ]
  },
  {
   "cell_type": "code",
   "execution_count": 503,
   "id": "f627dce4",
   "metadata": {},
   "outputs": [],
   "source": [
    "n_o_d = Data[\"num-of-doors\"].mode()[0]"
   ]
  },
  {
   "cell_type": "code",
   "execution_count": 504,
   "id": "43a916a0",
   "metadata": {},
   "outputs": [
    {
     "data": {
      "text/plain": [
       "'four'"
      ]
     },
     "execution_count": 504,
     "metadata": {},
     "output_type": "execute_result"
    }
   ],
   "source": [
    "n_o_d"
   ]
  },
  {
   "cell_type": "code",
   "execution_count": 505,
   "id": "7d8c225b",
   "metadata": {},
   "outputs": [],
   "source": [
    "Data[\"num-of-doors\"].fillna(n_o_d, inplace=True)"
   ]
  },
  {
   "cell_type": "code",
   "execution_count": 506,
   "id": "f00220ca",
   "metadata": {},
   "outputs": [
    {
     "data": {
      "text/plain": [
       "0"
      ]
     },
     "execution_count": 506,
     "metadata": {},
     "output_type": "execute_result"
    }
   ],
   "source": [
    "Data[\"num-of-doors\"].isnull().sum()"
   ]
  },
  {
   "cell_type": "markdown",
   "id": "b0218ac8",
   "metadata": {},
   "source": [
    "To handle missing values in bore column, we will use the KNNImputer"
   ]
  },
  {
   "cell_type": "markdown",
   "id": "bd42e0e4",
   "metadata": {},
   "source": [
    "KNNImputer works well with integers so we make use of just the columns that are integers"
   ]
  },
  {
   "cell_type": "code",
   "execution_count": 507,
   "id": "0020b71b",
   "metadata": {},
   "outputs": [],
   "source": [
    "X_use = []\n",
    "for x in Data:\n",
    "    if Data[x].dtype in [\"int64\", \"float64\"]:\n",
    "        X_use.append(x)"
   ]
  },
  {
   "cell_type": "code",
   "execution_count": 508,
   "id": "b8bffb36",
   "metadata": {},
   "outputs": [
    {
     "data": {
      "text/plain": [
       "['symboling',\n",
       " 'normalized-losses',\n",
       " 'wheel-base',\n",
       " 'length',\n",
       " 'width',\n",
       " 'height',\n",
       " 'curb-weight',\n",
       " 'engine-size',\n",
       " 'bore',\n",
       " 'stroke',\n",
       " 'compression-ratio',\n",
       " 'horsepower',\n",
       " 'peak-rpm',\n",
       " 'city-mpg',\n",
       " 'highway-mpg',\n",
       " 'price']"
      ]
     },
     "execution_count": 508,
     "metadata": {},
     "output_type": "execute_result"
    }
   ],
   "source": [
    "X_use"
   ]
  },
  {
   "cell_type": "code",
   "execution_count": 509,
   "id": "48ebf2ba",
   "metadata": {},
   "outputs": [
    {
     "data": {
      "text/plain": [
       "symboling            0\n",
       "normalized-losses    0\n",
       "wheel-base           0\n",
       "length               0\n",
       "width                0\n",
       "height               0\n",
       "curb-weight          0\n",
       "engine-size          0\n",
       "bore                 4\n",
       "stroke               4\n",
       "compression-ratio    0\n",
       "horsepower           2\n",
       "peak-rpm             2\n",
       "city-mpg             0\n",
       "highway-mpg          0\n",
       "price                0\n",
       "dtype: int64"
      ]
     },
     "execution_count": 509,
     "metadata": {},
     "output_type": "execute_result"
    }
   ],
   "source": [
    "Data[X_use].isnull().sum() #checking for null values in these columns"
   ]
  },
  {
   "cell_type": "code",
   "execution_count": 510,
   "id": "77aa59c9",
   "metadata": {},
   "outputs": [
    {
     "name": "stderr",
     "output_type": "stream",
     "text": [
      "C:\\Users\\ENEJI\\AppData\\Local\\Temp\\ipykernel_32980\\2656616448.py:10: SettingWithCopyWarning: \n",
      "A value is trying to be set on a copy of a slice from a DataFrame.\n",
      "Try using .loc[row_indexer,col_indexer] = value instead\n",
      "\n",
      "See the caveats in the documentation: https://pandas.pydata.org/pandas-docs/stable/user_guide/indexing.html#returning-a-view-versus-a-copy\n",
      "  X[\"bore\"] = X_imputer[:, X.columns.get_loc(\"bore\")] #replacing the bore column in the X DataFrame with imputed values\n"
     ]
    }
   ],
   "source": [
    "from sklearn.impute import KNNImputer\n",
    "X = Data[X_use]\n",
    "\n",
    "y = Data[\"bore\"]\n",
    "\n",
    "imputer = KNNImputer(n_neighbors = 10)\n",
    "\n",
    "X_imputer = imputer.fit_transform(X)\n",
    "\n",
    "X[\"bore\"] = X_imputer[:, X.columns.get_loc(\"bore\")] #replacing the bore column in the X DataFrame with imputed values"
   ]
  },
  {
   "cell_type": "code",
   "execution_count": null,
   "id": "2cdaa143",
   "metadata": {
    "scrolled": false
   },
   "outputs": [],
   "source": []
  },
  {
   "cell_type": "code",
   "execution_count": 511,
   "id": "68691cdb",
   "metadata": {},
   "outputs": [],
   "source": [
    "Data.drop(columns = [\"bore\"], inplace = True) #dropping the bore column in the original dataframe so we can introduce\n",
    "                                                #the one without missing values"
   ]
  },
  {
   "cell_type": "code",
   "execution_count": 512,
   "id": "96db6ae1",
   "metadata": {},
   "outputs": [],
   "source": [
    "Data = pd.concat([Data, X[\"bore\"]], axis = 1) #using concat function to join the imputed bore column to Data DataFrame"
   ]
  },
  {
   "cell_type": "markdown",
   "id": "7edf8dfc",
   "metadata": {},
   "source": [
    "To handle missing values in the stroke column"
   ]
  },
  {
   "cell_type": "markdown",
   "id": "a12e07c0",
   "metadata": {},
   "source": [
    "We will also make use of KNNImputer"
   ]
  },
  {
   "cell_type": "code",
   "execution_count": 513,
   "id": "60b77da4",
   "metadata": {},
   "outputs": [],
   "source": [
    "X_use = []\n",
    "for x in Data:\n",
    "    if Data[x].dtype in [\"int64\", \"float64\"]:\n",
    "        X_use.append(x)"
   ]
  },
  {
   "cell_type": "code",
   "execution_count": 514,
   "id": "88c06b83",
   "metadata": {},
   "outputs": [
    {
     "name": "stderr",
     "output_type": "stream",
     "text": [
      "C:\\Users\\ENEJI\\AppData\\Local\\Temp\\ipykernel_32980\\2041582339.py:9: SettingWithCopyWarning: \n",
      "A value is trying to be set on a copy of a slice from a DataFrame.\n",
      "Try using .loc[row_indexer,col_indexer] = value instead\n",
      "\n",
      "See the caveats in the documentation: https://pandas.pydata.org/pandas-docs/stable/user_guide/indexing.html#returning-a-view-versus-a-copy\n",
      "  X[\"stroke\"] = X_imputer[:, X.columns.get_loc(\"stroke\")]\n"
     ]
    }
   ],
   "source": [
    "X = Data[X_use]\n",
    "\n",
    "y = X[\"stroke\"]\n",
    "\n",
    "X_impute = KNNImputer(n_neighbors = 10)\n",
    "\n",
    "X_imputer = X_impute.fit_transform(X)\n",
    "\n",
    "X[\"stroke\"] = X_imputer[:, X.columns.get_loc(\"stroke\")]"
   ]
  },
  {
   "cell_type": "code",
   "execution_count": 515,
   "id": "b128f99c",
   "metadata": {},
   "outputs": [],
   "source": [
    "Data.drop(columns = [\"stroke\"], inplace = True) #dropping the stroke column in the Data DataFrame"
   ]
  },
  {
   "cell_type": "code",
   "execution_count": 516,
   "id": "c3ceda44",
   "metadata": {},
   "outputs": [],
   "source": [
    "Data = pd.concat([Data, X[\"stroke\"]], axis = 1)"
   ]
  },
  {
   "cell_type": "code",
   "execution_count": 517,
   "id": "c01b36c9",
   "metadata": {},
   "outputs": [
    {
     "data": {
      "text/html": [
       "<div>\n",
       "<style scoped>\n",
       "    .dataframe tbody tr th:only-of-type {\n",
       "        vertical-align: middle;\n",
       "    }\n",
       "\n",
       "    .dataframe tbody tr th {\n",
       "        vertical-align: top;\n",
       "    }\n",
       "\n",
       "    .dataframe thead th {\n",
       "        text-align: right;\n",
       "    }\n",
       "</style>\n",
       "<table border=\"1\" class=\"dataframe\">\n",
       "  <thead>\n",
       "    <tr style=\"text-align: right;\">\n",
       "      <th></th>\n",
       "      <th>symboling</th>\n",
       "      <th>normalized-losses</th>\n",
       "      <th>make</th>\n",
       "      <th>fuel-type</th>\n",
       "      <th>aspiration</th>\n",
       "      <th>num-of-doors</th>\n",
       "      <th>body-style</th>\n",
       "      <th>drive-wheels</th>\n",
       "      <th>engine-location</th>\n",
       "      <th>wheel-base</th>\n",
       "      <th>...</th>\n",
       "      <th>engine-size</th>\n",
       "      <th>fuel-system</th>\n",
       "      <th>compression-ratio</th>\n",
       "      <th>horsepower</th>\n",
       "      <th>peak-rpm</th>\n",
       "      <th>city-mpg</th>\n",
       "      <th>highway-mpg</th>\n",
       "      <th>price</th>\n",
       "      <th>bore</th>\n",
       "      <th>stroke</th>\n",
       "    </tr>\n",
       "  </thead>\n",
       "  <tbody>\n",
       "    <tr>\n",
       "      <th>0</th>\n",
       "      <td>3</td>\n",
       "      <td>115.0</td>\n",
       "      <td>alfa-romero</td>\n",
       "      <td>gas</td>\n",
       "      <td>std</td>\n",
       "      <td>two</td>\n",
       "      <td>convertible</td>\n",
       "      <td>rwd</td>\n",
       "      <td>front</td>\n",
       "      <td>88.6</td>\n",
       "      <td>...</td>\n",
       "      <td>130</td>\n",
       "      <td>mpfi</td>\n",
       "      <td>9.0</td>\n",
       "      <td>111.0</td>\n",
       "      <td>5000.0</td>\n",
       "      <td>21</td>\n",
       "      <td>27</td>\n",
       "      <td>16500</td>\n",
       "      <td>3.47</td>\n",
       "      <td>2.68</td>\n",
       "    </tr>\n",
       "    <tr>\n",
       "      <th>1</th>\n",
       "      <td>1</td>\n",
       "      <td>115.0</td>\n",
       "      <td>alfa-romero</td>\n",
       "      <td>gas</td>\n",
       "      <td>std</td>\n",
       "      <td>two</td>\n",
       "      <td>hatchback</td>\n",
       "      <td>rwd</td>\n",
       "      <td>front</td>\n",
       "      <td>94.5</td>\n",
       "      <td>...</td>\n",
       "      <td>152</td>\n",
       "      <td>mpfi</td>\n",
       "      <td>9.0</td>\n",
       "      <td>154.0</td>\n",
       "      <td>5000.0</td>\n",
       "      <td>19</td>\n",
       "      <td>26</td>\n",
       "      <td>16500</td>\n",
       "      <td>2.68</td>\n",
       "      <td>3.47</td>\n",
       "    </tr>\n",
       "    <tr>\n",
       "      <th>2</th>\n",
       "      <td>2</td>\n",
       "      <td>164.0</td>\n",
       "      <td>audi</td>\n",
       "      <td>gas</td>\n",
       "      <td>std</td>\n",
       "      <td>four</td>\n",
       "      <td>sedan</td>\n",
       "      <td>fwd</td>\n",
       "      <td>front</td>\n",
       "      <td>99.8</td>\n",
       "      <td>...</td>\n",
       "      <td>109</td>\n",
       "      <td>mpfi</td>\n",
       "      <td>10.0</td>\n",
       "      <td>102.0</td>\n",
       "      <td>5500.0</td>\n",
       "      <td>24</td>\n",
       "      <td>30</td>\n",
       "      <td>13950</td>\n",
       "      <td>3.19</td>\n",
       "      <td>3.40</td>\n",
       "    </tr>\n",
       "    <tr>\n",
       "      <th>3</th>\n",
       "      <td>2</td>\n",
       "      <td>164.0</td>\n",
       "      <td>audi</td>\n",
       "      <td>gas</td>\n",
       "      <td>std</td>\n",
       "      <td>four</td>\n",
       "      <td>sedan</td>\n",
       "      <td>4wd</td>\n",
       "      <td>front</td>\n",
       "      <td>99.4</td>\n",
       "      <td>...</td>\n",
       "      <td>136</td>\n",
       "      <td>mpfi</td>\n",
       "      <td>8.0</td>\n",
       "      <td>115.0</td>\n",
       "      <td>5500.0</td>\n",
       "      <td>18</td>\n",
       "      <td>22</td>\n",
       "      <td>17450</td>\n",
       "      <td>3.19</td>\n",
       "      <td>3.40</td>\n",
       "    </tr>\n",
       "    <tr>\n",
       "      <th>4</th>\n",
       "      <td>2</td>\n",
       "      <td>115.0</td>\n",
       "      <td>audi</td>\n",
       "      <td>gas</td>\n",
       "      <td>std</td>\n",
       "      <td>two</td>\n",
       "      <td>sedan</td>\n",
       "      <td>fwd</td>\n",
       "      <td>front</td>\n",
       "      <td>99.8</td>\n",
       "      <td>...</td>\n",
       "      <td>136</td>\n",
       "      <td>mpfi</td>\n",
       "      <td>8.5</td>\n",
       "      <td>110.0</td>\n",
       "      <td>5500.0</td>\n",
       "      <td>19</td>\n",
       "      <td>25</td>\n",
       "      <td>15250</td>\n",
       "      <td>3.19</td>\n",
       "      <td>3.40</td>\n",
       "    </tr>\n",
       "    <tr>\n",
       "      <th>...</th>\n",
       "      <td>...</td>\n",
       "      <td>...</td>\n",
       "      <td>...</td>\n",
       "      <td>...</td>\n",
       "      <td>...</td>\n",
       "      <td>...</td>\n",
       "      <td>...</td>\n",
       "      <td>...</td>\n",
       "      <td>...</td>\n",
       "      <td>...</td>\n",
       "      <td>...</td>\n",
       "      <td>...</td>\n",
       "      <td>...</td>\n",
       "      <td>...</td>\n",
       "      <td>...</td>\n",
       "      <td>...</td>\n",
       "      <td>...</td>\n",
       "      <td>...</td>\n",
       "      <td>...</td>\n",
       "      <td>...</td>\n",
       "      <td>...</td>\n",
       "    </tr>\n",
       "    <tr>\n",
       "      <th>195</th>\n",
       "      <td>-1</td>\n",
       "      <td>95.0</td>\n",
       "      <td>volvo</td>\n",
       "      <td>gas</td>\n",
       "      <td>std</td>\n",
       "      <td>four</td>\n",
       "      <td>sedan</td>\n",
       "      <td>rwd</td>\n",
       "      <td>front</td>\n",
       "      <td>109.1</td>\n",
       "      <td>...</td>\n",
       "      <td>141</td>\n",
       "      <td>mpfi</td>\n",
       "      <td>9.5</td>\n",
       "      <td>114.0</td>\n",
       "      <td>5400.0</td>\n",
       "      <td>23</td>\n",
       "      <td>28</td>\n",
       "      <td>16845</td>\n",
       "      <td>3.78</td>\n",
       "      <td>3.15</td>\n",
       "    </tr>\n",
       "    <tr>\n",
       "      <th>196</th>\n",
       "      <td>-1</td>\n",
       "      <td>95.0</td>\n",
       "      <td>volvo</td>\n",
       "      <td>gas</td>\n",
       "      <td>turbo</td>\n",
       "      <td>four</td>\n",
       "      <td>sedan</td>\n",
       "      <td>rwd</td>\n",
       "      <td>front</td>\n",
       "      <td>109.1</td>\n",
       "      <td>...</td>\n",
       "      <td>141</td>\n",
       "      <td>mpfi</td>\n",
       "      <td>8.7</td>\n",
       "      <td>160.0</td>\n",
       "      <td>5300.0</td>\n",
       "      <td>19</td>\n",
       "      <td>25</td>\n",
       "      <td>19045</td>\n",
       "      <td>3.78</td>\n",
       "      <td>3.15</td>\n",
       "    </tr>\n",
       "    <tr>\n",
       "      <th>197</th>\n",
       "      <td>-1</td>\n",
       "      <td>95.0</td>\n",
       "      <td>volvo</td>\n",
       "      <td>gas</td>\n",
       "      <td>std</td>\n",
       "      <td>four</td>\n",
       "      <td>sedan</td>\n",
       "      <td>rwd</td>\n",
       "      <td>front</td>\n",
       "      <td>109.1</td>\n",
       "      <td>...</td>\n",
       "      <td>173</td>\n",
       "      <td>mpfi</td>\n",
       "      <td>8.8</td>\n",
       "      <td>134.0</td>\n",
       "      <td>5500.0</td>\n",
       "      <td>18</td>\n",
       "      <td>23</td>\n",
       "      <td>21485</td>\n",
       "      <td>3.58</td>\n",
       "      <td>2.87</td>\n",
       "    </tr>\n",
       "    <tr>\n",
       "      <th>198</th>\n",
       "      <td>-1</td>\n",
       "      <td>95.0</td>\n",
       "      <td>volvo</td>\n",
       "      <td>diesel</td>\n",
       "      <td>turbo</td>\n",
       "      <td>four</td>\n",
       "      <td>sedan</td>\n",
       "      <td>rwd</td>\n",
       "      <td>front</td>\n",
       "      <td>109.1</td>\n",
       "      <td>...</td>\n",
       "      <td>145</td>\n",
       "      <td>idi</td>\n",
       "      <td>23.0</td>\n",
       "      <td>106.0</td>\n",
       "      <td>4800.0</td>\n",
       "      <td>26</td>\n",
       "      <td>27</td>\n",
       "      <td>22470</td>\n",
       "      <td>3.01</td>\n",
       "      <td>3.40</td>\n",
       "    </tr>\n",
       "    <tr>\n",
       "      <th>199</th>\n",
       "      <td>-1</td>\n",
       "      <td>95.0</td>\n",
       "      <td>volvo</td>\n",
       "      <td>gas</td>\n",
       "      <td>turbo</td>\n",
       "      <td>four</td>\n",
       "      <td>sedan</td>\n",
       "      <td>rwd</td>\n",
       "      <td>front</td>\n",
       "      <td>109.1</td>\n",
       "      <td>...</td>\n",
       "      <td>141</td>\n",
       "      <td>mpfi</td>\n",
       "      <td>9.5</td>\n",
       "      <td>114.0</td>\n",
       "      <td>5400.0</td>\n",
       "      <td>19</td>\n",
       "      <td>25</td>\n",
       "      <td>22625</td>\n",
       "      <td>3.78</td>\n",
       "      <td>3.15</td>\n",
       "    </tr>\n",
       "  </tbody>\n",
       "</table>\n",
       "<p>200 rows × 26 columns</p>\n",
       "</div>"
      ],
      "text/plain": [
       "     symboling  normalized-losses         make fuel-type aspiration  \\\n",
       "0            3              115.0  alfa-romero       gas        std   \n",
       "1            1              115.0  alfa-romero       gas        std   \n",
       "2            2              164.0         audi       gas        std   \n",
       "3            2              164.0         audi       gas        std   \n",
       "4            2              115.0         audi       gas        std   \n",
       "..         ...                ...          ...       ...        ...   \n",
       "195         -1               95.0        volvo       gas        std   \n",
       "196         -1               95.0        volvo       gas      turbo   \n",
       "197         -1               95.0        volvo       gas        std   \n",
       "198         -1               95.0        volvo    diesel      turbo   \n",
       "199         -1               95.0        volvo       gas      turbo   \n",
       "\n",
       "    num-of-doors   body-style drive-wheels engine-location  wheel-base  ...  \\\n",
       "0            two  convertible          rwd           front        88.6  ...   \n",
       "1            two    hatchback          rwd           front        94.5  ...   \n",
       "2           four        sedan          fwd           front        99.8  ...   \n",
       "3           four        sedan          4wd           front        99.4  ...   \n",
       "4            two        sedan          fwd           front        99.8  ...   \n",
       "..           ...          ...          ...             ...         ...  ...   \n",
       "195         four        sedan          rwd           front       109.1  ...   \n",
       "196         four        sedan          rwd           front       109.1  ...   \n",
       "197         four        sedan          rwd           front       109.1  ...   \n",
       "198         four        sedan          rwd           front       109.1  ...   \n",
       "199         four        sedan          rwd           front       109.1  ...   \n",
       "\n",
       "     engine-size  fuel-system  compression-ratio  horsepower peak-rpm  \\\n",
       "0            130         mpfi                9.0       111.0   5000.0   \n",
       "1            152         mpfi                9.0       154.0   5000.0   \n",
       "2            109         mpfi               10.0       102.0   5500.0   \n",
       "3            136         mpfi                8.0       115.0   5500.0   \n",
       "4            136         mpfi                8.5       110.0   5500.0   \n",
       "..           ...          ...                ...         ...      ...   \n",
       "195          141         mpfi                9.5       114.0   5400.0   \n",
       "196          141         mpfi                8.7       160.0   5300.0   \n",
       "197          173         mpfi                8.8       134.0   5500.0   \n",
       "198          145          idi               23.0       106.0   4800.0   \n",
       "199          141         mpfi                9.5       114.0   5400.0   \n",
       "\n",
       "    city-mpg  highway-mpg  price  bore  stroke  \n",
       "0         21           27  16500  3.47    2.68  \n",
       "1         19           26  16500  2.68    3.47  \n",
       "2         24           30  13950  3.19    3.40  \n",
       "3         18           22  17450  3.19    3.40  \n",
       "4         19           25  15250  3.19    3.40  \n",
       "..       ...          ...    ...   ...     ...  \n",
       "195       23           28  16845  3.78    3.15  \n",
       "196       19           25  19045  3.78    3.15  \n",
       "197       18           23  21485  3.58    2.87  \n",
       "198       26           27  22470  3.01    3.40  \n",
       "199       19           25  22625  3.78    3.15  \n",
       "\n",
       "[200 rows x 26 columns]"
      ]
     },
     "execution_count": 517,
     "metadata": {},
     "output_type": "execute_result"
    }
   ],
   "source": [
    "Data"
   ]
  },
  {
   "cell_type": "code",
   "execution_count": 518,
   "id": "53280bf0",
   "metadata": {},
   "outputs": [
    {
     "data": {
      "text/plain": [
       "symboling            0\n",
       "normalized-losses    0\n",
       "make                 0\n",
       "fuel-type            0\n",
       "aspiration           0\n",
       "num-of-doors         0\n",
       "body-style           0\n",
       "drive-wheels         0\n",
       "engine-location      0\n",
       "wheel-base           0\n",
       "length               0\n",
       "width                0\n",
       "height               0\n",
       "curb-weight          0\n",
       "engine-type          0\n",
       "num-of-cylinders     0\n",
       "engine-size          0\n",
       "fuel-system          0\n",
       "compression-ratio    0\n",
       "horsepower           2\n",
       "peak-rpm             2\n",
       "city-mpg             0\n",
       "highway-mpg          0\n",
       "price                0\n",
       "bore                 0\n",
       "stroke               0\n",
       "dtype: int64"
      ]
     },
     "execution_count": 518,
     "metadata": {},
     "output_type": "execute_result"
    }
   ],
   "source": [
    "Data.isnull().sum()"
   ]
  },
  {
   "cell_type": "markdown",
   "id": "400eea32",
   "metadata": {},
   "source": [
    "Using Xgboost to predict the missing values in the horsepower column"
   ]
  },
  {
   "cell_type": "code",
   "execution_count": 519,
   "id": "a10f5b95",
   "metadata": {},
   "outputs": [],
   "source": [
    "use = []\n",
    "for x in Data:\n",
    "    if Data[x].dtype in (\"float64\", \"int64\"):\n",
    "        use.append(x)"
   ]
  },
  {
   "cell_type": "code",
   "execution_count": 520,
   "id": "7eb8e66c",
   "metadata": {},
   "outputs": [],
   "source": [
    "use = Data[use]"
   ]
  },
  {
   "cell_type": "code",
   "execution_count": 521,
   "id": "04129139",
   "metadata": {},
   "outputs": [],
   "source": [
    "from xgboost import XGBRegressor\n",
    "\n",
    "X_xg = use[~use[\"horsepower\"].isnull()]\n",
    "\n",
    "X_xg_test = use[use[\"horsepower\"].isnull()]\n",
    "\n",
    "X_xg_train= X_xg.drop(columns = [\"peak-rpm\", \"horsepower\"], inplace = False)\n",
    "\n",
    "y_xg_test = X_xg[\"horsepower\"]"
   ]
  },
  {
   "cell_type": "code",
   "execution_count": 522,
   "id": "2d5d44e8",
   "metadata": {},
   "outputs": [
    {
     "data": {
      "text/html": [
       "<style>#sk-container-id-5 {color: black;background-color: white;}#sk-container-id-5 pre{padding: 0;}#sk-container-id-5 div.sk-toggleable {background-color: white;}#sk-container-id-5 label.sk-toggleable__label {cursor: pointer;display: block;width: 100%;margin-bottom: 0;padding: 0.3em;box-sizing: border-box;text-align: center;}#sk-container-id-5 label.sk-toggleable__label-arrow:before {content: \"▸\";float: left;margin-right: 0.25em;color: #696969;}#sk-container-id-5 label.sk-toggleable__label-arrow:hover:before {color: black;}#sk-container-id-5 div.sk-estimator:hover label.sk-toggleable__label-arrow:before {color: black;}#sk-container-id-5 div.sk-toggleable__content {max-height: 0;max-width: 0;overflow: hidden;text-align: left;background-color: #f0f8ff;}#sk-container-id-5 div.sk-toggleable__content pre {margin: 0.2em;color: black;border-radius: 0.25em;background-color: #f0f8ff;}#sk-container-id-5 input.sk-toggleable__control:checked~div.sk-toggleable__content {max-height: 200px;max-width: 100%;overflow: auto;}#sk-container-id-5 input.sk-toggleable__control:checked~label.sk-toggleable__label-arrow:before {content: \"▾\";}#sk-container-id-5 div.sk-estimator input.sk-toggleable__control:checked~label.sk-toggleable__label {background-color: #d4ebff;}#sk-container-id-5 div.sk-label input.sk-toggleable__control:checked~label.sk-toggleable__label {background-color: #d4ebff;}#sk-container-id-5 input.sk-hidden--visually {border: 0;clip: rect(1px 1px 1px 1px);clip: rect(1px, 1px, 1px, 1px);height: 1px;margin: -1px;overflow: hidden;padding: 0;position: absolute;width: 1px;}#sk-container-id-5 div.sk-estimator {font-family: monospace;background-color: #f0f8ff;border: 1px dotted black;border-radius: 0.25em;box-sizing: border-box;margin-bottom: 0.5em;}#sk-container-id-5 div.sk-estimator:hover {background-color: #d4ebff;}#sk-container-id-5 div.sk-parallel-item::after {content: \"\";width: 100%;border-bottom: 1px solid gray;flex-grow: 1;}#sk-container-id-5 div.sk-label:hover label.sk-toggleable__label {background-color: #d4ebff;}#sk-container-id-5 div.sk-serial::before {content: \"\";position: absolute;border-left: 1px solid gray;box-sizing: border-box;top: 0;bottom: 0;left: 50%;z-index: 0;}#sk-container-id-5 div.sk-serial {display: flex;flex-direction: column;align-items: center;background-color: white;padding-right: 0.2em;padding-left: 0.2em;position: relative;}#sk-container-id-5 div.sk-item {position: relative;z-index: 1;}#sk-container-id-5 div.sk-parallel {display: flex;align-items: stretch;justify-content: center;background-color: white;position: relative;}#sk-container-id-5 div.sk-item::before, #sk-container-id-5 div.sk-parallel-item::before {content: \"\";position: absolute;border-left: 1px solid gray;box-sizing: border-box;top: 0;bottom: 0;left: 50%;z-index: -1;}#sk-container-id-5 div.sk-parallel-item {display: flex;flex-direction: column;z-index: 1;position: relative;background-color: white;}#sk-container-id-5 div.sk-parallel-item:first-child::after {align-self: flex-end;width: 50%;}#sk-container-id-5 div.sk-parallel-item:last-child::after {align-self: flex-start;width: 50%;}#sk-container-id-5 div.sk-parallel-item:only-child::after {width: 0;}#sk-container-id-5 div.sk-dashed-wrapped {border: 1px dashed gray;margin: 0 0.4em 0.5em 0.4em;box-sizing: border-box;padding-bottom: 0.4em;background-color: white;}#sk-container-id-5 div.sk-label label {font-family: monospace;font-weight: bold;display: inline-block;line-height: 1.2em;}#sk-container-id-5 div.sk-label-container {text-align: center;}#sk-container-id-5 div.sk-container {/* jupyter's `normalize.less` sets `[hidden] { display: none; }` but bootstrap.min.css set `[hidden] { display: none !important; }` so we also need the `!important` here to be able to override the default hidden behavior on the sphinx rendered scikit-learn.org. See: https://github.com/scikit-learn/scikit-learn/issues/21755 */display: inline-block !important;position: relative;}#sk-container-id-5 div.sk-text-repr-fallback {display: none;}</style><div id=\"sk-container-id-5\" class=\"sk-top-container\"><div class=\"sk-text-repr-fallback\"><pre>XGBRegressor(base_score=None, booster=None, callbacks=None,\n",
       "             colsample_bylevel=None, colsample_bynode=None,\n",
       "             colsample_bytree=None, device=None, early_stopping_rounds=None,\n",
       "             enable_categorical=False, eval_metric=None, feature_types=None,\n",
       "             gamma=None, grow_policy=None, importance_type=None,\n",
       "             interaction_constraints=None, learning_rate=None, max_bin=None,\n",
       "             max_cat_threshold=None, max_cat_to_onehot=None,\n",
       "             max_delta_step=None, max_depth=None, max_leaves=None,\n",
       "             min_child_weight=None, missing=nan, monotone_constraints=None,\n",
       "             multi_strategy=None, n_estimators=None, n_jobs=None,\n",
       "             num_parallel_tree=None, random_state=None, ...)</pre><b>In a Jupyter environment, please rerun this cell to show the HTML representation or trust the notebook. <br />On GitHub, the HTML representation is unable to render, please try loading this page with nbviewer.org.</b></div><div class=\"sk-container\" hidden><div class=\"sk-item\"><div class=\"sk-estimator sk-toggleable\"><input class=\"sk-toggleable__control sk-hidden--visually\" id=\"sk-estimator-id-5\" type=\"checkbox\" checked><label for=\"sk-estimator-id-5\" class=\"sk-toggleable__label sk-toggleable__label-arrow\">XGBRegressor</label><div class=\"sk-toggleable__content\"><pre>XGBRegressor(base_score=None, booster=None, callbacks=None,\n",
       "             colsample_bylevel=None, colsample_bynode=None,\n",
       "             colsample_bytree=None, device=None, early_stopping_rounds=None,\n",
       "             enable_categorical=False, eval_metric=None, feature_types=None,\n",
       "             gamma=None, grow_policy=None, importance_type=None,\n",
       "             interaction_constraints=None, learning_rate=None, max_bin=None,\n",
       "             max_cat_threshold=None, max_cat_to_onehot=None,\n",
       "             max_delta_step=None, max_depth=None, max_leaves=None,\n",
       "             min_child_weight=None, missing=nan, monotone_constraints=None,\n",
       "             multi_strategy=None, n_estimators=None, n_jobs=None,\n",
       "             num_parallel_tree=None, random_state=None, ...)</pre></div></div></div></div></div>"
      ],
      "text/plain": [
       "XGBRegressor(base_score=None, booster=None, callbacks=None,\n",
       "             colsample_bylevel=None, colsample_bynode=None,\n",
       "             colsample_bytree=None, device=None, early_stopping_rounds=None,\n",
       "             enable_categorical=False, eval_metric=None, feature_types=None,\n",
       "             gamma=None, grow_policy=None, importance_type=None,\n",
       "             interaction_constraints=None, learning_rate=None, max_bin=None,\n",
       "             max_cat_threshold=None, max_cat_to_onehot=None,\n",
       "             max_delta_step=None, max_depth=None, max_leaves=None,\n",
       "             min_child_weight=None, missing=nan, monotone_constraints=None,\n",
       "             multi_strategy=None, n_estimators=None, n_jobs=None,\n",
       "             num_parallel_tree=None, random_state=None, ...)"
      ]
     },
     "execution_count": 522,
     "metadata": {},
     "output_type": "execute_result"
    }
   ],
   "source": [
    "model = XGBRegressor()\n",
    "\n",
    "model.fit(X_xg_train, y_xg_test)"
   ]
  },
  {
   "cell_type": "code",
   "execution_count": 523,
   "id": "6a56adda",
   "metadata": {},
   "outputs": [
    {
     "name": "stderr",
     "output_type": "stream",
     "text": [
      "C:\\Users\\ENEJI\\AppData\\Local\\Temp\\ipykernel_32980\\539501484.py:1: SettingWithCopyWarning: \n",
      "A value is trying to be set on a copy of a slice from a DataFrame\n",
      "\n",
      "See the caveats in the documentation: https://pandas.pydata.org/pandas-docs/stable/user_guide/indexing.html#returning-a-view-versus-a-copy\n",
      "  X_xg_test.drop(columns = [\"peak-rpm\", \"horsepower\"], inplace = True)\n"
     ]
    }
   ],
   "source": [
    "X_xg_test.drop(columns = [\"peak-rpm\", \"horsepower\"], inplace = True)"
   ]
  },
  {
   "cell_type": "code",
   "execution_count": 524,
   "id": "8e4751eb",
   "metadata": {},
   "outputs": [],
   "source": [
    "mh = model.predict(X_xg_test) #making predictions to predict the missing values"
   ]
  },
  {
   "cell_type": "code",
   "execution_count": 525,
   "id": "e3303fb8",
   "metadata": {},
   "outputs": [
    {
     "data": {
      "text/plain": [
       "array([92.09985, 92.25832], dtype=float32)"
      ]
     },
     "execution_count": 525,
     "metadata": {},
     "output_type": "execute_result"
    }
   ],
   "source": [
    "mh #predicted values"
   ]
  },
  {
   "cell_type": "code",
   "execution_count": 526,
   "id": "b7d2e476",
   "metadata": {},
   "outputs": [],
   "source": [
    "Data.loc[125,\"horsepower\"] = mh[0] #replacing the first missing value with the first value"
   ]
  },
  {
   "cell_type": "code",
   "execution_count": 527,
   "id": "f88349d8",
   "metadata": {},
   "outputs": [],
   "source": [
    "Data.loc[126, \"horsepower\"] = mh[1] #replacing the second missing value with the second value"
   ]
  },
  {
   "cell_type": "code",
   "execution_count": null,
   "id": "0229afea",
   "metadata": {},
   "outputs": [],
   "source": []
  },
  {
   "cell_type": "markdown",
   "id": "9f085856",
   "metadata": {},
   "source": [
    "Using XGBoost to replace the missing values in the peak-rpm column"
   ]
  },
  {
   "cell_type": "code",
   "execution_count": 528,
   "id": "fc2dde97",
   "metadata": {},
   "outputs": [],
   "source": [
    "use = []\n",
    "for x in Data:\n",
    "    if Data[x].dtype in (\"float64\", \"int64\"):\n",
    "        use.append(x)\n",
    "\n",
    "use = Data[use]\n",
    "\n",
    "X_xg = use[~use[\"peak-rpm\"].isnull()]\n",
    "\n",
    "X_xg_test = use[use[\"peak-rpm\"].isnull()]\n",
    "\n",
    "X_xg_train= X_xg.drop(columns = [\"peak-rpm\"], inplace = False)\n",
    "\n",
    "y_xg_test = X_xg[\"peak-rpm\"]"
   ]
  },
  {
   "cell_type": "code",
   "execution_count": 529,
   "id": "a27596f1",
   "metadata": {},
   "outputs": [],
   "source": [
    "model = XGBRegressor()"
   ]
  },
  {
   "cell_type": "code",
   "execution_count": 530,
   "id": "e55383b1",
   "metadata": {},
   "outputs": [
    {
     "data": {
      "text/html": [
       "<style>#sk-container-id-6 {color: black;background-color: white;}#sk-container-id-6 pre{padding: 0;}#sk-container-id-6 div.sk-toggleable {background-color: white;}#sk-container-id-6 label.sk-toggleable__label {cursor: pointer;display: block;width: 100%;margin-bottom: 0;padding: 0.3em;box-sizing: border-box;text-align: center;}#sk-container-id-6 label.sk-toggleable__label-arrow:before {content: \"▸\";float: left;margin-right: 0.25em;color: #696969;}#sk-container-id-6 label.sk-toggleable__label-arrow:hover:before {color: black;}#sk-container-id-6 div.sk-estimator:hover label.sk-toggleable__label-arrow:before {color: black;}#sk-container-id-6 div.sk-toggleable__content {max-height: 0;max-width: 0;overflow: hidden;text-align: left;background-color: #f0f8ff;}#sk-container-id-6 div.sk-toggleable__content pre {margin: 0.2em;color: black;border-radius: 0.25em;background-color: #f0f8ff;}#sk-container-id-6 input.sk-toggleable__control:checked~div.sk-toggleable__content {max-height: 200px;max-width: 100%;overflow: auto;}#sk-container-id-6 input.sk-toggleable__control:checked~label.sk-toggleable__label-arrow:before {content: \"▾\";}#sk-container-id-6 div.sk-estimator input.sk-toggleable__control:checked~label.sk-toggleable__label {background-color: #d4ebff;}#sk-container-id-6 div.sk-label input.sk-toggleable__control:checked~label.sk-toggleable__label {background-color: #d4ebff;}#sk-container-id-6 input.sk-hidden--visually {border: 0;clip: rect(1px 1px 1px 1px);clip: rect(1px, 1px, 1px, 1px);height: 1px;margin: -1px;overflow: hidden;padding: 0;position: absolute;width: 1px;}#sk-container-id-6 div.sk-estimator {font-family: monospace;background-color: #f0f8ff;border: 1px dotted black;border-radius: 0.25em;box-sizing: border-box;margin-bottom: 0.5em;}#sk-container-id-6 div.sk-estimator:hover {background-color: #d4ebff;}#sk-container-id-6 div.sk-parallel-item::after {content: \"\";width: 100%;border-bottom: 1px solid gray;flex-grow: 1;}#sk-container-id-6 div.sk-label:hover label.sk-toggleable__label {background-color: #d4ebff;}#sk-container-id-6 div.sk-serial::before {content: \"\";position: absolute;border-left: 1px solid gray;box-sizing: border-box;top: 0;bottom: 0;left: 50%;z-index: 0;}#sk-container-id-6 div.sk-serial {display: flex;flex-direction: column;align-items: center;background-color: white;padding-right: 0.2em;padding-left: 0.2em;position: relative;}#sk-container-id-6 div.sk-item {position: relative;z-index: 1;}#sk-container-id-6 div.sk-parallel {display: flex;align-items: stretch;justify-content: center;background-color: white;position: relative;}#sk-container-id-6 div.sk-item::before, #sk-container-id-6 div.sk-parallel-item::before {content: \"\";position: absolute;border-left: 1px solid gray;box-sizing: border-box;top: 0;bottom: 0;left: 50%;z-index: -1;}#sk-container-id-6 div.sk-parallel-item {display: flex;flex-direction: column;z-index: 1;position: relative;background-color: white;}#sk-container-id-6 div.sk-parallel-item:first-child::after {align-self: flex-end;width: 50%;}#sk-container-id-6 div.sk-parallel-item:last-child::after {align-self: flex-start;width: 50%;}#sk-container-id-6 div.sk-parallel-item:only-child::after {width: 0;}#sk-container-id-6 div.sk-dashed-wrapped {border: 1px dashed gray;margin: 0 0.4em 0.5em 0.4em;box-sizing: border-box;padding-bottom: 0.4em;background-color: white;}#sk-container-id-6 div.sk-label label {font-family: monospace;font-weight: bold;display: inline-block;line-height: 1.2em;}#sk-container-id-6 div.sk-label-container {text-align: center;}#sk-container-id-6 div.sk-container {/* jupyter's `normalize.less` sets `[hidden] { display: none; }` but bootstrap.min.css set `[hidden] { display: none !important; }` so we also need the `!important` here to be able to override the default hidden behavior on the sphinx rendered scikit-learn.org. See: https://github.com/scikit-learn/scikit-learn/issues/21755 */display: inline-block !important;position: relative;}#sk-container-id-6 div.sk-text-repr-fallback {display: none;}</style><div id=\"sk-container-id-6\" class=\"sk-top-container\"><div class=\"sk-text-repr-fallback\"><pre>XGBRegressor(base_score=None, booster=None, callbacks=None,\n",
       "             colsample_bylevel=None, colsample_bynode=None,\n",
       "             colsample_bytree=None, device=None, early_stopping_rounds=None,\n",
       "             enable_categorical=False, eval_metric=None, feature_types=None,\n",
       "             gamma=None, grow_policy=None, importance_type=None,\n",
       "             interaction_constraints=None, learning_rate=None, max_bin=None,\n",
       "             max_cat_threshold=None, max_cat_to_onehot=None,\n",
       "             max_delta_step=None, max_depth=None, max_leaves=None,\n",
       "             min_child_weight=None, missing=nan, monotone_constraints=None,\n",
       "             multi_strategy=None, n_estimators=None, n_jobs=None,\n",
       "             num_parallel_tree=None, random_state=None, ...)</pre><b>In a Jupyter environment, please rerun this cell to show the HTML representation or trust the notebook. <br />On GitHub, the HTML representation is unable to render, please try loading this page with nbviewer.org.</b></div><div class=\"sk-container\" hidden><div class=\"sk-item\"><div class=\"sk-estimator sk-toggleable\"><input class=\"sk-toggleable__control sk-hidden--visually\" id=\"sk-estimator-id-6\" type=\"checkbox\" checked><label for=\"sk-estimator-id-6\" class=\"sk-toggleable__label sk-toggleable__label-arrow\">XGBRegressor</label><div class=\"sk-toggleable__content\"><pre>XGBRegressor(base_score=None, booster=None, callbacks=None,\n",
       "             colsample_bylevel=None, colsample_bynode=None,\n",
       "             colsample_bytree=None, device=None, early_stopping_rounds=None,\n",
       "             enable_categorical=False, eval_metric=None, feature_types=None,\n",
       "             gamma=None, grow_policy=None, importance_type=None,\n",
       "             interaction_constraints=None, learning_rate=None, max_bin=None,\n",
       "             max_cat_threshold=None, max_cat_to_onehot=None,\n",
       "             max_delta_step=None, max_depth=None, max_leaves=None,\n",
       "             min_child_weight=None, missing=nan, monotone_constraints=None,\n",
       "             multi_strategy=None, n_estimators=None, n_jobs=None,\n",
       "             num_parallel_tree=None, random_state=None, ...)</pre></div></div></div></div></div>"
      ],
      "text/plain": [
       "XGBRegressor(base_score=None, booster=None, callbacks=None,\n",
       "             colsample_bylevel=None, colsample_bynode=None,\n",
       "             colsample_bytree=None, device=None, early_stopping_rounds=None,\n",
       "             enable_categorical=False, eval_metric=None, feature_types=None,\n",
       "             gamma=None, grow_policy=None, importance_type=None,\n",
       "             interaction_constraints=None, learning_rate=None, max_bin=None,\n",
       "             max_cat_threshold=None, max_cat_to_onehot=None,\n",
       "             max_delta_step=None, max_depth=None, max_leaves=None,\n",
       "             min_child_weight=None, missing=nan, monotone_constraints=None,\n",
       "             multi_strategy=None, n_estimators=None, n_jobs=None,\n",
       "             num_parallel_tree=None, random_state=None, ...)"
      ]
     },
     "execution_count": 530,
     "metadata": {},
     "output_type": "execute_result"
    }
   ],
   "source": [
    "model.fit(X_xg_train, y_xg_test)"
   ]
  },
  {
   "cell_type": "code",
   "execution_count": 531,
   "id": "523a926f",
   "metadata": {},
   "outputs": [
    {
     "name": "stderr",
     "output_type": "stream",
     "text": [
      "C:\\Users\\ENEJI\\AppData\\Local\\Temp\\ipykernel_32980\\3049876499.py:1: SettingWithCopyWarning: \n",
      "A value is trying to be set on a copy of a slice from a DataFrame\n",
      "\n",
      "See the caveats in the documentation: https://pandas.pydata.org/pandas-docs/stable/user_guide/indexing.html#returning-a-view-versus-a-copy\n",
      "  X_xg_test.drop(columns = [\"peak-rpm\"], inplace = True)\n"
     ]
    }
   ],
   "source": [
    "X_xg_test.drop(columns = [\"peak-rpm\"], inplace = True)"
   ]
  },
  {
   "cell_type": "code",
   "execution_count": 532,
   "id": "26213955",
   "metadata": {},
   "outputs": [],
   "source": [
    "mp = model.predict(X_xg_test)"
   ]
  },
  {
   "cell_type": "code",
   "execution_count": 533,
   "id": "f8335ab6",
   "metadata": {},
   "outputs": [
    {
     "data": {
      "text/plain": [
       "array([4956.934 , 5051.3535], dtype=float32)"
      ]
     },
     "execution_count": 533,
     "metadata": {},
     "output_type": "execute_result"
    }
   ],
   "source": [
    "mp"
   ]
  },
  {
   "cell_type": "code",
   "execution_count": 534,
   "id": "c1739868",
   "metadata": {},
   "outputs": [
    {
     "data": {
      "text/html": [
       "<div>\n",
       "<style scoped>\n",
       "    .dataframe tbody tr th:only-of-type {\n",
       "        vertical-align: middle;\n",
       "    }\n",
       "\n",
       "    .dataframe tbody tr th {\n",
       "        vertical-align: top;\n",
       "    }\n",
       "\n",
       "    .dataframe thead th {\n",
       "        text-align: right;\n",
       "    }\n",
       "</style>\n",
       "<table border=\"1\" class=\"dataframe\">\n",
       "  <thead>\n",
       "    <tr style=\"text-align: right;\">\n",
       "      <th></th>\n",
       "      <th>symboling</th>\n",
       "      <th>normalized-losses</th>\n",
       "      <th>make</th>\n",
       "      <th>fuel-type</th>\n",
       "      <th>aspiration</th>\n",
       "      <th>num-of-doors</th>\n",
       "      <th>body-style</th>\n",
       "      <th>drive-wheels</th>\n",
       "      <th>engine-location</th>\n",
       "      <th>wheel-base</th>\n",
       "      <th>...</th>\n",
       "      <th>engine-size</th>\n",
       "      <th>fuel-system</th>\n",
       "      <th>compression-ratio</th>\n",
       "      <th>horsepower</th>\n",
       "      <th>peak-rpm</th>\n",
       "      <th>city-mpg</th>\n",
       "      <th>highway-mpg</th>\n",
       "      <th>price</th>\n",
       "      <th>bore</th>\n",
       "      <th>stroke</th>\n",
       "    </tr>\n",
       "  </thead>\n",
       "  <tbody>\n",
       "    <tr>\n",
       "      <th>125</th>\n",
       "      <td>0</td>\n",
       "      <td>115.0</td>\n",
       "      <td>renault</td>\n",
       "      <td>gas</td>\n",
       "      <td>std</td>\n",
       "      <td>four</td>\n",
       "      <td>wagon</td>\n",
       "      <td>fwd</td>\n",
       "      <td>front</td>\n",
       "      <td>96.1</td>\n",
       "      <td>...</td>\n",
       "      <td>132</td>\n",
       "      <td>mpfi</td>\n",
       "      <td>8.7</td>\n",
       "      <td>92.099854</td>\n",
       "      <td>NaN</td>\n",
       "      <td>23</td>\n",
       "      <td>31</td>\n",
       "      <td>9295</td>\n",
       "      <td>3.46</td>\n",
       "      <td>3.9</td>\n",
       "    </tr>\n",
       "    <tr>\n",
       "      <th>126</th>\n",
       "      <td>2</td>\n",
       "      <td>115.0</td>\n",
       "      <td>renault</td>\n",
       "      <td>gas</td>\n",
       "      <td>std</td>\n",
       "      <td>two</td>\n",
       "      <td>hatchback</td>\n",
       "      <td>fwd</td>\n",
       "      <td>front</td>\n",
       "      <td>96.1</td>\n",
       "      <td>...</td>\n",
       "      <td>132</td>\n",
       "      <td>mpfi</td>\n",
       "      <td>8.7</td>\n",
       "      <td>92.258324</td>\n",
       "      <td>NaN</td>\n",
       "      <td>23</td>\n",
       "      <td>31</td>\n",
       "      <td>9895</td>\n",
       "      <td>3.46</td>\n",
       "      <td>3.9</td>\n",
       "    </tr>\n",
       "  </tbody>\n",
       "</table>\n",
       "<p>2 rows × 26 columns</p>\n",
       "</div>"
      ],
      "text/plain": [
       "     symboling  normalized-losses     make fuel-type aspiration num-of-doors  \\\n",
       "125          0              115.0  renault       gas        std         four   \n",
       "126          2              115.0  renault       gas        std          two   \n",
       "\n",
       "    body-style drive-wheels engine-location  wheel-base  ...  engine-size  \\\n",
       "125      wagon          fwd           front        96.1  ...          132   \n",
       "126  hatchback          fwd           front        96.1  ...          132   \n",
       "\n",
       "     fuel-system  compression-ratio  horsepower peak-rpm city-mpg  \\\n",
       "125         mpfi                8.7   92.099854      NaN       23   \n",
       "126         mpfi                8.7   92.258324      NaN       23   \n",
       "\n",
       "     highway-mpg price  bore  stroke  \n",
       "125           31  9295  3.46     3.9  \n",
       "126           31  9895  3.46     3.9  \n",
       "\n",
       "[2 rows x 26 columns]"
      ]
     },
     "execution_count": 534,
     "metadata": {},
     "output_type": "execute_result"
    }
   ],
   "source": [
    "Data.loc[Data[\"peak-rpm\"].isnull()]"
   ]
  },
  {
   "cell_type": "code",
   "execution_count": 535,
   "id": "c61ac141",
   "metadata": {},
   "outputs": [],
   "source": [
    "Data.loc[125, \"peak-rpm\"] = mp[0]"
   ]
  },
  {
   "cell_type": "code",
   "execution_count": 536,
   "id": "9ec2f94b",
   "metadata": {},
   "outputs": [],
   "source": [
    "Data.loc[126, \"peak-rpm\"] = mp[1]"
   ]
  },
  {
   "cell_type": "code",
   "execution_count": 537,
   "id": "68141333",
   "metadata": {},
   "outputs": [
    {
     "data": {
      "text/plain": [
       "symboling            0\n",
       "normalized-losses    0\n",
       "make                 0\n",
       "fuel-type            0\n",
       "aspiration           0\n",
       "num-of-doors         0\n",
       "body-style           0\n",
       "drive-wheels         0\n",
       "engine-location      0\n",
       "wheel-base           0\n",
       "length               0\n",
       "width                0\n",
       "height               0\n",
       "curb-weight          0\n",
       "engine-type          0\n",
       "num-of-cylinders     0\n",
       "engine-size          0\n",
       "fuel-system          0\n",
       "compression-ratio    0\n",
       "horsepower           0\n",
       "peak-rpm             0\n",
       "city-mpg             0\n",
       "highway-mpg          0\n",
       "price                0\n",
       "bore                 0\n",
       "stroke               0\n",
       "dtype: int64"
      ]
     },
     "execution_count": 537,
     "metadata": {},
     "output_type": "execute_result"
    }
   ],
   "source": [
    "Data.isnull().sum()"
   ]
  },
  {
   "cell_type": "markdown",
   "id": "bb269d5d",
   "metadata": {},
   "source": [
    "# EXPLORATORY DATA ANALYSIS"
   ]
  },
  {
   "cell_type": "markdown",
   "id": "001bd3c1",
   "metadata": {},
   "source": [
    "exploratory data analysis is being done to gain insights and discover patterns in the dataset"
   ]
  },
  {
   "cell_type": "code",
   "execution_count": 538,
   "id": "af13e12c",
   "metadata": {
    "scrolled": false
   },
   "outputs": [
    {
     "data": {
      "text/plain": [
       "Text(0.5, 1.0, 'Number of Doors ratio')"
      ]
     },
     "execution_count": 538,
     "metadata": {},
     "output_type": "execute_result"
    },
    {
     "data": {
      "image/png": "[encoded data removed]",
      "text/plain": [
       "<Figure size 640x480 with 1 Axes>"
      ]
     },
     "metadata": {},
     "output_type": "display_data"
    }
   ],
   "source": [
    "plt.pie(Data[\"num-of-doors\"].value_counts(), labels = [\"four\", \"two\"], autopct = \"%1.1f%%\")\n",
    "plt.title(\"Number of Doors ratio\")"
   ]
  },
  {
   "cell_type": "markdown",
   "id": "f061a852",
   "metadata": {},
   "source": [
    "This indicates that about 57.5 percent of the cars in this dataset have four doors while only about 42.5 percent of the cars have two doors"
   ]
  },
  {
   "cell_type": "code",
   "execution_count": 539,
   "id": "5e8064d4",
   "metadata": {},
   "outputs": [
    {
     "data": {
      "text/plain": [
       "four    115\n",
       "two      85\n",
       "Name: num-of-doors, dtype: int64"
      ]
     },
     "execution_count": 539,
     "metadata": {},
     "output_type": "execute_result"
    }
   ],
   "source": [
    "Data[\"num-of-doors\"].value_counts()"
   ]
  },
  {
   "cell_type": "code",
   "execution_count": 540,
   "id": "67ad5cbc",
   "metadata": {},
   "outputs": [
    {
     "data": {
      "text/plain": [
       "Index(['symboling', 'normalized-losses', 'make', 'fuel-type', 'aspiration',\n",
       "       'num-of-doors', 'body-style', 'drive-wheels', 'engine-location',\n",
       "       'wheel-base', 'length', 'width', 'height', 'curb-weight', 'engine-type',\n",
       "       'num-of-cylinders', 'engine-size', 'fuel-system', 'compression-ratio',\n",
       "       'horsepower', 'peak-rpm', 'city-mpg', 'highway-mpg', 'price', 'bore',\n",
       "       'stroke'],\n",
       "      dtype='object')"
      ]
     },
     "execution_count": 540,
     "metadata": {},
     "output_type": "execute_result"
    }
   ],
   "source": [
    "Data.columns"
   ]
  },
  {
   "cell_type": "code",
   "execution_count": 541,
   "id": "9e844476",
   "metadata": {},
   "outputs": [
    {
     "ename": "SyntaxError",
     "evalue": "invalid syntax (617748963.py, line 1)",
     "output_type": "error",
     "traceback": [
      "\u001b[1;36m  Cell \u001b[1;32mIn[541], line 1\u001b[1;36m\u001b[0m\n\u001b[1;33m    Which fuel type is more expensive\u001b[0m\n\u001b[1;37m          ^\u001b[0m\n\u001b[1;31mSyntaxError\u001b[0m\u001b[1;31m:\u001b[0m invalid syntax\n"
     ]
    }
   ],
   "source": [
    "Which fuel type is more expensive"
   ]
  },
  {
   "cell_type": "code",
   "execution_count": 542,
   "id": "37474a33",
   "metadata": {
    "scrolled": false
   },
   "outputs": [
    {
     "data": {
      "text/plain": [
       "<Axes: xlabel='fuel-type', ylabel='price'>"
      ]
     },
     "execution_count": 542,
     "metadata": {},
     "output_type": "execute_result"
    },
    {
     "data": {
      "image/png": "[encoded data removed]",
      "text/plain": [
       "<Figure size 640x480 with 1 Axes>"
      ]
     },
     "metadata": {},
     "output_type": "display_data"
    }
   ],
   "source": [
    "sns.stripplot(data = Data, x = \"fuel-type\", y = 'price')"
   ]
  },
  {
   "cell_type": "code",
   "execution_count": 543,
   "id": "c8ddd543",
   "metadata": {},
   "outputs": [
    {
     "data": {
      "text/html": [
       "<div>\n",
       "<style scoped>\n",
       "    .dataframe tbody tr th:only-of-type {\n",
       "        vertical-align: middle;\n",
       "    }\n",
       "\n",
       "    .dataframe tbody tr th {\n",
       "        vertical-align: top;\n",
       "    }\n",
       "\n",
       "    .dataframe thead th {\n",
       "        text-align: right;\n",
       "    }\n",
       "</style>\n",
       "<table border=\"1\" class=\"dataframe\">\n",
       "  <thead>\n",
       "    <tr style=\"text-align: right;\">\n",
       "      <th></th>\n",
       "      <th>price</th>\n",
       "    </tr>\n",
       "    <tr>\n",
       "      <th>fuel-type</th>\n",
       "      <th></th>\n",
       "    </tr>\n",
       "  </thead>\n",
       "  <tbody>\n",
       "    <tr>\n",
       "      <th>diesel</th>\n",
       "      <td>15838.150000</td>\n",
       "    </tr>\n",
       "    <tr>\n",
       "      <th>gas</th>\n",
       "      <td>12913.194444</td>\n",
       "    </tr>\n",
       "  </tbody>\n",
       "</table>\n",
       "</div>"
      ],
      "text/plain": [
       "                  price\n",
       "fuel-type              \n",
       "diesel     15838.150000\n",
       "gas        12913.194444"
      ]
     },
     "execution_count": 543,
     "metadata": {},
     "output_type": "execute_result"
    }
   ],
   "source": [
    "Data.groupby(\"fuel-type\").agg({\"price\" : \"mean\"})"
   ]
  },
  {
   "cell_type": "markdown",
   "id": "4ef3847b",
   "metadata": {},
   "source": [
    "We can see that more cars make use of gas fuel-type, the most expensive cars in our dataset make use of gas fuel-type but on average the cars with diesel fuel-type are more expensive compared to cars using gas fuel-type"
   ]
  },
  {
   "cell_type": "code",
   "execution_count": null,
   "id": "a0d18f2c",
   "metadata": {},
   "outputs": [],
   "source": []
  },
  {
   "cell_type": "code",
   "execution_count": 544,
   "id": "5054f3a9",
   "metadata": {
    "scrolled": false
   },
   "outputs": [
    {
     "data": {
      "text/plain": [
       "<Axes: xlabel='aspiration', ylabel='price'>"
      ]
     },
     "execution_count": 544,
     "metadata": {},
     "output_type": "execute_result"
    },
    {
     "data": {
      "image/png": "[encoded data removed]",
      "text/plain": [
       "<Figure size 640x480 with 1 Axes>"
      ]
     },
     "metadata": {},
     "output_type": "display_data"
    }
   ],
   "source": [
    "sns.stripplot(data = Data, x = \"aspiration\", y = \"price\")"
   ]
  },
  {
   "cell_type": "code",
   "execution_count": 545,
   "id": "d4a24d47",
   "metadata": {},
   "outputs": [
    {
     "data": {
      "text/html": [
       "<div>\n",
       "<style scoped>\n",
       "    .dataframe tbody tr th:only-of-type {\n",
       "        vertical-align: middle;\n",
       "    }\n",
       "\n",
       "    .dataframe tbody tr th {\n",
       "        vertical-align: top;\n",
       "    }\n",
       "\n",
       "    .dataframe thead th {\n",
       "        text-align: right;\n",
       "    }\n",
       "</style>\n",
       "<table border=\"1\" class=\"dataframe\">\n",
       "  <thead>\n",
       "    <tr style=\"text-align: right;\">\n",
       "      <th></th>\n",
       "      <th>price</th>\n",
       "    </tr>\n",
       "    <tr>\n",
       "      <th>aspiration</th>\n",
       "      <th></th>\n",
       "    </tr>\n",
       "  </thead>\n",
       "  <tbody>\n",
       "    <tr>\n",
       "      <th>std</th>\n",
       "      <td>12536.371951</td>\n",
       "    </tr>\n",
       "    <tr>\n",
       "      <th>turbo</th>\n",
       "      <td>16254.805556</td>\n",
       "    </tr>\n",
       "  </tbody>\n",
       "</table>\n",
       "</div>"
      ],
      "text/plain": [
       "                   price\n",
       "aspiration              \n",
       "std         12536.371951\n",
       "turbo       16254.805556"
      ]
     },
     "execution_count": 545,
     "metadata": {},
     "output_type": "execute_result"
    }
   ],
   "source": [
    "Data.groupby(\"aspiration\").agg({\"price\" : \"mean\"})"
   ]
  },
  {
   "cell_type": "markdown",
   "id": "e64287b6",
   "metadata": {},
   "source": [
    "Same thing with fuel-type, the cars with std aspiration are more than the cars with turbo aspiration and the most expensive cars are those with std aspiration but the cars with turbo aspiration cost more on average"
   ]
  },
  {
   "cell_type": "code",
   "execution_count": 546,
   "id": "5d998ef1",
   "metadata": {},
   "outputs": [
    {
     "data": {
      "text/html": [
       "<div>\n",
       "<style scoped>\n",
       "    .dataframe tbody tr th:only-of-type {\n",
       "        vertical-align: middle;\n",
       "    }\n",
       "\n",
       "    .dataframe tbody tr th {\n",
       "        vertical-align: top;\n",
       "    }\n",
       "\n",
       "    .dataframe thead th {\n",
       "        text-align: right;\n",
       "    }\n",
       "</style>\n",
       "<table border=\"1\" class=\"dataframe\">\n",
       "  <thead>\n",
       "    <tr style=\"text-align: right;\">\n",
       "      <th></th>\n",
       "      <th></th>\n",
       "      <th>price</th>\n",
       "    </tr>\n",
       "    <tr>\n",
       "      <th>num-of-doors</th>\n",
       "      <th>fuel-type</th>\n",
       "      <th></th>\n",
       "    </tr>\n",
       "  </thead>\n",
       "  <tbody>\n",
       "    <tr>\n",
       "      <th rowspan=\"2\" valign=\"top\">four</th>\n",
       "      <th>diesel</th>\n",
       "      <td>16100.764706</td>\n",
       "    </tr>\n",
       "    <tr>\n",
       "      <th>gas</th>\n",
       "      <td>13046.540816</td>\n",
       "    </tr>\n",
       "    <tr>\n",
       "      <th rowspan=\"2\" valign=\"top\">two</th>\n",
       "      <th>diesel</th>\n",
       "      <td>14350.000000</td>\n",
       "    </tr>\n",
       "    <tr>\n",
       "      <th>gas</th>\n",
       "      <td>12753.829268</td>\n",
       "    </tr>\n",
       "  </tbody>\n",
       "</table>\n",
       "</div>"
      ],
      "text/plain": [
       "                               price\n",
       "num-of-doors fuel-type              \n",
       "four         diesel     16100.764706\n",
       "             gas        13046.540816\n",
       "two          diesel     14350.000000\n",
       "             gas        12753.829268"
      ]
     },
     "execution_count": 546,
     "metadata": {},
     "output_type": "execute_result"
    }
   ],
   "source": [
    "Data.groupby([\"num-of-doors\", \"fuel-type\"]).agg({\"price\" : \"mean\"})"
   ]
  },
  {
   "cell_type": "markdown",
   "id": "3f36e720",
   "metadata": {},
   "source": [
    "four door cars for diesel and gas fuel-types are on average more expensive than their two door counterparts"
   ]
  },
  {
   "cell_type": "code",
   "execution_count": null,
   "id": "030c6f15",
   "metadata": {},
   "outputs": [],
   "source": []
  },
  {
   "cell_type": "code",
   "execution_count": 547,
   "id": "ea851f07",
   "metadata": {},
   "outputs": [
    {
     "data": {
      "text/plain": [
       "<Axes: xlabel='body-style', ylabel='price'>"
      ]
     },
     "execution_count": 547,
     "metadata": {},
     "output_type": "execute_result"
    },
    {
     "data": {
      "image/png": "[encoded data removed]",
      "text/plain": [
       "<Figure size 640x480 with 1 Axes>"
      ]
     },
     "metadata": {},
     "output_type": "display_data"
    }
   ],
   "source": [
    "sns.boxplot(data = Data, x = \"body-style\", y = \"price\")"
   ]
  },
  {
   "cell_type": "markdown",
   "id": "d9576d63",
   "metadata": {},
   "source": [
    "- convertible -> The minimum price of the cars with convertible body-style is between 10000 - 15000. However the distribution of the prices of convertible cars is skewed to the right with a maximum value between 35000 to 40000 which is far away from the median price of about 17500. There is no noticeable outlier in the distribution of the prices of the convertible cars. \n",
    "\n",
    "\n",
    "- hatchback -> The minimum price of the cars with a hatchback body-style is about 5000. However the distribution of the prices of the cars with hatchback bodystyle is skewed to the right with a maximum value between 20000 - 25000 and a median value value between 5000 - 10000. There is one noticeable outlier\n",
    "\n",
    "\n",
    "- sedan -> The minimum price of sedan cars is slightly above the 5000 mark. However the distribution of the prices of cars with a sedan body-style is significantly skewed to the right with a maximum value between 40000 - 45000 and a median value slightly above the 10000 mark. There are several outlier prices in this category of cars.\n",
    "\n",
    "\n",
    "- wagon -> This body is almost symmetrically distributed but minutely skewed to the right. There are two outliers in the prices of wagon cars.\n",
    "\n",
    "\n",
    "- hardtop -> The distribution of the price of hardtop cars is skewed to the right with a maximum value slightly above the 45000 mark and a minimum just below the 10000 price mark. \n",
    "\n",
    "\n",
    "Takeaways - Most expensive car body-style - Hardtop\n",
    "\n",
    "\n",
    "            Cheapest car body-style - hatchback\n",
    "\n"
   ]
  },
  {
   "cell_type": "markdown",
   "id": "742d7b25",
   "metadata": {},
   "source": [
    "Using a stripplot to pinpoint which car type has the best value for money"
   ]
  },
  {
   "cell_type": "code",
   "execution_count": 548,
   "id": "b36dbcd7",
   "metadata": {
    "scrolled": false
   },
   "outputs": [
    {
     "data": {
      "text/plain": [
       "<Axes: xlabel='body-style', ylabel='price'>"
      ]
     },
     "execution_count": 548,
     "metadata": {},
     "output_type": "execute_result"
    },
    {
     "data": {
      "image/png": "[encoded data removed]",
      "text/plain": [
       "<Figure size 640x480 with 1 Axes>"
      ]
     },
     "metadata": {},
     "output_type": "display_data"
    }
   ],
   "source": [
    "sns.stripplot(data = Data, x = \"body-style\", y = \"price\")"
   ]
  },
  {
   "cell_type": "markdown",
   "id": "15410853",
   "metadata": {},
   "source": [
    "Quite hard to indicate which car body-style has the highest value for money as the dataset is quite small."
   ]
  },
  {
   "cell_type": "code",
   "execution_count": 549,
   "id": "a9c65d0c",
   "metadata": {},
   "outputs": [
    {
     "data": {
      "text/plain": [
       "<Axes: xlabel='engine-location', ylabel='price'>"
      ]
     },
     "execution_count": 549,
     "metadata": {},
     "output_type": "execute_result"
    },
    {
     "data": {
      "image/png": "[encoded data removed]",
      "text/plain": [
       "<Figure size 640x480 with 1 Axes>"
      ]
     },
     "metadata": {},
     "output_type": "display_data"
    }
   ],
   "source": [
    "sns.stripplot(data = Data, x = \"engine-location\", y = \"price\")"
   ]
  },
  {
   "cell_type": "markdown",
   "id": "8eef158c",
   "metadata": {},
   "source": [
    "we can see that there is a huge inbalance in the distinct engine-locations in the cars in the dataset"
   ]
  },
  {
   "cell_type": "code",
   "execution_count": 550,
   "id": "541100f4",
   "metadata": {},
   "outputs": [
    {
     "data": {
      "text/plain": [
       "front    197\n",
       "rear       3\n",
       "Name: engine-location, dtype: int64"
      ]
     },
     "execution_count": 550,
     "metadata": {},
     "output_type": "execute_result"
    }
   ],
   "source": [
    "Data[\"engine-location\"].value_counts()"
   ]
  },
  {
   "cell_type": "markdown",
   "id": "8a978a54",
   "metadata": {},
   "source": [
    "# FEATURE ENGINEERING"
   ]
  },
  {
   "cell_type": "code",
   "execution_count": 551,
   "id": "c66a764e",
   "metadata": {},
   "outputs": [
    {
     "data": {
      "text/plain": [
       "Index(['symboling', 'normalized-losses', 'make', 'fuel-type', 'aspiration',\n",
       "       'num-of-doors', 'body-style', 'drive-wheels', 'engine-location',\n",
       "       'wheel-base', 'length', 'width', 'height', 'curb-weight', 'engine-type',\n",
       "       'num-of-cylinders', 'engine-size', 'fuel-system', 'compression-ratio',\n",
       "       'horsepower', 'peak-rpm', 'city-mpg', 'highway-mpg', 'price', 'bore',\n",
       "       'stroke'],\n",
       "      dtype='object')"
      ]
     },
     "execution_count": 551,
     "metadata": {},
     "output_type": "execute_result"
    }
   ],
   "source": [
    "Data.columns"
   ]
  },
  {
   "cell_type": "markdown",
   "id": "6ac7e646",
   "metadata": {},
   "source": [
    "Transforming the columns with categorical variables into numerical format for machine learning"
   ]
  },
  {
   "cell_type": "code",
   "execution_count": 552,
   "id": "196433ac",
   "metadata": {},
   "outputs": [],
   "source": [
    "categorical = []\n",
    "for x in Data:\n",
    "    if Data[x].dtype == ('object'):\n",
    "        categorical.append(x)"
   ]
  },
  {
   "cell_type": "code",
   "execution_count": null,
   "id": "0ffcf9d5",
   "metadata": {},
   "outputs": [],
   "source": []
  },
  {
   "cell_type": "code",
   "execution_count": 553,
   "id": "a3bc46d2",
   "metadata": {
    "scrolled": true
   },
   "outputs": [
    {
     "data": {
      "text/plain": [
       "['make',\n",
       " 'fuel-type',\n",
       " 'aspiration',\n",
       " 'num-of-doors',\n",
       " 'body-style',\n",
       " 'drive-wheels',\n",
       " 'engine-location',\n",
       " 'engine-type',\n",
       " 'num-of-cylinders',\n",
       " 'fuel-system']"
      ]
     },
     "execution_count": 553,
     "metadata": {},
     "output_type": "execute_result"
    }
   ],
   "source": [
    "categorical"
   ]
  },
  {
   "cell_type": "code",
   "execution_count": 554,
   "id": "262551e3",
   "metadata": {},
   "outputs": [
    {
     "data": {
      "text/plain": [
       "22"
      ]
     },
     "execution_count": 554,
     "metadata": {},
     "output_type": "execute_result"
    }
   ],
   "source": [
    "Data[\"make\"].nunique()"
   ]
  },
  {
   "cell_type": "markdown",
   "id": "0c90ec77",
   "metadata": {},
   "source": [
    "Making use of get_dummies function to create new columns from the unique values in the original column"
   ]
  },
  {
   "cell_type": "code",
   "execution_count": 555,
   "id": "1e0f5d64",
   "metadata": {},
   "outputs": [],
   "source": [
    "make = pd.get_dummies(Data[\"make\"], prefix = 'make') # Making new columns with the unique values from the original column\n",
    "                                                        # and setting 1 where present and 0 where absent"
   ]
  },
  {
   "cell_type": "code",
   "execution_count": 556,
   "id": "9ab098f9",
   "metadata": {},
   "outputs": [],
   "source": [
    "Data = pd.concat([Data, make], axis = 1) # joining the new columns back to the original DataFrame"
   ]
  },
  {
   "cell_type": "code",
   "execution_count": null,
   "id": "c56fc509",
   "metadata": {},
   "outputs": [],
   "source": []
  },
  {
   "cell_type": "code",
   "execution_count": 559,
   "id": "3956cd31",
   "metadata": {},
   "outputs": [],
   "source": [
    "fuel_type = pd.get_dummies(Data[\"fuel-type\"], prefix = \"fuel\")"
   ]
  },
  {
   "cell_type": "code",
   "execution_count": 560,
   "id": "338fce49",
   "metadata": {},
   "outputs": [],
   "source": [
    "Data = pd.concat([Data, fuel_type], axis = 1)"
   ]
  },
  {
   "cell_type": "code",
   "execution_count": null,
   "id": "b906a87b",
   "metadata": {},
   "outputs": [],
   "source": []
  },
  {
   "cell_type": "code",
   "execution_count": 573,
   "id": "185d9cb2",
   "metadata": {},
   "outputs": [],
   "source": [
    "aspiration = pd.get_dummies(Data[\"aspiration\"], prefix = \"aspiration\")"
   ]
  },
  {
   "cell_type": "code",
   "execution_count": 574,
   "id": "b3a51bf7",
   "metadata": {},
   "outputs": [],
   "source": [
    "Data = pd.concat([Data, aspiration], axis = 1)"
   ]
  },
  {
   "cell_type": "code",
   "execution_count": null,
   "id": "3e38bfa3",
   "metadata": {},
   "outputs": [],
   "source": []
  },
  {
   "cell_type": "code",
   "execution_count": 579,
   "id": "8d25c274",
   "metadata": {},
   "outputs": [],
   "source": [
    "num_of_doors = pd.get_dummies(Data[\"num-of-doors\"], prefix = \"door\")"
   ]
  },
  {
   "cell_type": "code",
   "execution_count": 580,
   "id": "b858b7da",
   "metadata": {},
   "outputs": [],
   "source": [
    "Data = pd.concat([Data, num_of_doors], axis = 1)"
   ]
  },
  {
   "cell_type": "code",
   "execution_count": null,
   "id": "c3c2c0db",
   "metadata": {},
   "outputs": [],
   "source": []
  },
  {
   "cell_type": "code",
   "execution_count": 582,
   "id": "d7c24c22",
   "metadata": {},
   "outputs": [],
   "source": [
    "body_style = pd.get_dummies(Data[\"body-style\"], prefix = \"body-style\")\n",
    "Data = pd.concat([Data, body_style], axis = 1)"
   ]
  },
  {
   "cell_type": "code",
   "execution_count": null,
   "id": "23596d95",
   "metadata": {},
   "outputs": [],
   "source": []
  },
  {
   "cell_type": "code",
   "execution_count": 583,
   "id": "6458827f",
   "metadata": {},
   "outputs": [],
   "source": [
    "drive_wheels = pd.get_dummies(Data[\"drive-wheels\"], prefix = \"drive-wheels\")\n",
    "Data = pd.concat([Data, drive_wheels], axis = 1)"
   ]
  },
  {
   "cell_type": "code",
   "execution_count": null,
   "id": "e163db30",
   "metadata": {},
   "outputs": [],
   "source": []
  },
  {
   "cell_type": "code",
   "execution_count": 585,
   "id": "0a358929",
   "metadata": {},
   "outputs": [],
   "source": [
    "engine_location = pd.get_dummies(Data['engine-location'], prefix = 'engine')\n",
    "Data = pd.concat([Data, engine_location], axis = 1)"
   ]
  },
  {
   "cell_type": "code",
   "execution_count": null,
   "id": "9f457e62",
   "metadata": {},
   "outputs": [],
   "source": []
  },
  {
   "cell_type": "code",
   "execution_count": 589,
   "id": "8787ed1f",
   "metadata": {},
   "outputs": [],
   "source": [
    "engine_type = pd.get_dummies(Data[\"engine-type\"], prefix = \"engine-type\")\n",
    "Data = pd.concat([Data, engine_type], axis = 1)"
   ]
  },
  {
   "cell_type": "code",
   "execution_count": null,
   "id": "242fb7c3",
   "metadata": {},
   "outputs": [],
   "source": []
  },
  {
   "cell_type": "code",
   "execution_count": 590,
   "id": "5ad4fd7a",
   "metadata": {},
   "outputs": [],
   "source": [
    "num_of_cylinders = pd.get_dummies(Data[\"num-of-cylinders\"], prefix = \"cylinder\")\n",
    "Data = pd.concat([Data, num_of_cylinders], axis = 1)"
   ]
  },
  {
   "cell_type": "code",
   "execution_count": null,
   "id": "322c01ef",
   "metadata": {},
   "outputs": [],
   "source": []
  },
  {
   "cell_type": "code",
   "execution_count": 591,
   "id": "87a71a4f",
   "metadata": {},
   "outputs": [],
   "source": [
    "fuel_system = pd.get_dummies(Data[\"fuel-system\"], prefix = \"fuel-system\")\n",
    "Data = pd.concat([Data, fuel_system], axis = 1)"
   ]
  },
  {
   "cell_type": "code",
   "execution_count": null,
   "id": "53d1f430",
   "metadata": {},
   "outputs": [],
   "source": []
  },
  {
   "cell_type": "markdown",
   "id": "b55624b3",
   "metadata": {},
   "source": [
    "Dropping the original categorical columns"
   ]
  },
  {
   "cell_type": "code",
   "execution_count": 593,
   "id": "2d014c76",
   "metadata": {},
   "outputs": [],
   "source": [
    "Data.drop(columns = ['make',\n",
    " 'fuel-type',\n",
    " 'aspiration',\n",
    " 'num-of-doors',\n",
    " 'body-style',\n",
    " 'drive-wheels',\n",
    " 'engine-location',\n",
    " 'engine-type',\n",
    " 'num-of-cylinders',\n",
    " 'fuel-system'], inplace = True)"
   ]
  },
  {
   "cell_type": "code",
   "execution_count": null,
   "id": "7d47d946",
   "metadata": {},
   "outputs": [],
   "source": []
  },
  {
   "cell_type": "code",
   "execution_count": 594,
   "id": "30cea791",
   "metadata": {},
   "outputs": [
    {
     "data": {
      "text/plain": [
       "(200, 75)"
      ]
     },
     "execution_count": 594,
     "metadata": {},
     "output_type": "execute_result"
    }
   ],
   "source": [
    "Data.shape"
   ]
  },
  {
   "cell_type": "code",
   "execution_count": null,
   "id": "f85e45a4",
   "metadata": {},
   "outputs": [],
   "source": []
  },
  {
   "cell_type": "markdown",
   "id": "8d8b1a0c",
   "metadata": {},
   "source": [
    "Checking the relationship between the columns in the Dataset"
   ]
  },
  {
   "cell_type": "code",
   "execution_count": 595,
   "id": "0cd55d2f",
   "metadata": {},
   "outputs": [
    {
     "data": {
      "text/html": [
       "<div>\n",
       "<style scoped>\n",
       "    .dataframe tbody tr th:only-of-type {\n",
       "        vertical-align: middle;\n",
       "    }\n",
       "\n",
       "    .dataframe tbody tr th {\n",
       "        vertical-align: top;\n",
       "    }\n",
       "\n",
       "    .dataframe thead th {\n",
       "        text-align: right;\n",
       "    }\n",
       "</style>\n",
       "<table border=\"1\" class=\"dataframe\">\n",
       "  <thead>\n",
       "    <tr style=\"text-align: right;\">\n",
       "      <th></th>\n",
       "      <th>symboling</th>\n",
       "      <th>normalized-losses</th>\n",
       "      <th>wheel-base</th>\n",
       "      <th>length</th>\n",
       "      <th>width</th>\n",
       "      <th>height</th>\n",
       "      <th>curb-weight</th>\n",
       "      <th>engine-size</th>\n",
       "      <th>compression-ratio</th>\n",
       "      <th>horsepower</th>\n",
       "      <th>...</th>\n",
       "      <th>cylinder_twelve</th>\n",
       "      <th>cylinder_two</th>\n",
       "      <th>fuel-system_1bbl</th>\n",
       "      <th>fuel-system_2bbl</th>\n",
       "      <th>fuel-system_4bbl</th>\n",
       "      <th>fuel-system_idi</th>\n",
       "      <th>fuel-system_mfi</th>\n",
       "      <th>fuel-system_mpfi</th>\n",
       "      <th>fuel-system_spdi</th>\n",
       "      <th>fuel-system_spfi</th>\n",
       "    </tr>\n",
       "  </thead>\n",
       "  <tbody>\n",
       "    <tr>\n",
       "      <th>symboling</th>\n",
       "      <td>1.000000</td>\n",
       "      <td>0.462765</td>\n",
       "      <td>-0.529145</td>\n",
       "      <td>-0.364511</td>\n",
       "      <td>-0.237262</td>\n",
       "      <td>-0.542261</td>\n",
       "      <td>-0.234743</td>\n",
       "      <td>-0.112069</td>\n",
       "      <td>-0.181073</td>\n",
       "      <td>0.074170</td>\n",
       "      <td>...</td>\n",
       "      <td>-0.047242</td>\n",
       "      <td>0.248910</td>\n",
       "      <td>-0.037509</td>\n",
       "      <td>-0.026852</td>\n",
       "      <td>0.215014</td>\n",
       "      <td>-0.195381</td>\n",
       "      <td>0.123513</td>\n",
       "      <td>0.003789</td>\n",
       "      <td>0.184559</td>\n",
       "      <td>0.066595</td>\n",
       "    </tr>\n",
       "    <tr>\n",
       "      <th>normalized-losses</th>\n",
       "      <td>0.462765</td>\n",
       "      <td>1.000000</td>\n",
       "      <td>-0.077168</td>\n",
       "      <td>-0.009513</td>\n",
       "      <td>0.061155</td>\n",
       "      <td>-0.377599</td>\n",
       "      <td>0.065385</td>\n",
       "      <td>0.073660</td>\n",
       "      <td>-0.116261</td>\n",
       "      <td>0.182796</td>\n",
       "      <td>...</td>\n",
       "      <td>-0.012672</td>\n",
       "      <td>0.130181</td>\n",
       "      <td>-0.123726</td>\n",
       "      <td>-0.124969</td>\n",
       "      <td>0.112454</td>\n",
       "      <td>-0.106304</td>\n",
       "      <td>0.053560</td>\n",
       "      <td>0.183140</td>\n",
       "      <td>0.051334</td>\n",
       "      <td>-0.012672</td>\n",
       "    </tr>\n",
       "    <tr>\n",
       "      <th>wheel-base</th>\n",
       "      <td>-0.529145</td>\n",
       "      <td>-0.077168</td>\n",
       "      <td>1.000000</td>\n",
       "      <td>0.879005</td>\n",
       "      <td>0.814593</td>\n",
       "      <td>0.583789</td>\n",
       "      <td>0.787584</td>\n",
       "      <td>0.576779</td>\n",
       "      <td>0.249689</td>\n",
       "      <td>0.376887</td>\n",
       "      <td>...</td>\n",
       "      <td>0.037097</td>\n",
       "      <td>-0.084152</td>\n",
       "      <td>-0.196729</td>\n",
       "      <td>-0.401245</td>\n",
       "      <td>-0.072692</td>\n",
       "      <td>0.306706</td>\n",
       "      <td>-0.034696</td>\n",
       "      <td>0.359298</td>\n",
       "      <td>-0.121862</td>\n",
       "      <td>-0.033519</td>\n",
       "    </tr>\n",
       "    <tr>\n",
       "      <th>length</th>\n",
       "      <td>-0.364511</td>\n",
       "      <td>-0.009513</td>\n",
       "      <td>0.879005</td>\n",
       "      <td>1.000000</td>\n",
       "      <td>0.857271</td>\n",
       "      <td>0.492955</td>\n",
       "      <td>0.881058</td>\n",
       "      <td>0.685531</td>\n",
       "      <td>0.159203</td>\n",
       "      <td>0.579059</td>\n",
       "      <td>...</td>\n",
       "      <td>0.100563</td>\n",
       "      <td>-0.060640</td>\n",
       "      <td>-0.304517</td>\n",
       "      <td>-0.478216</td>\n",
       "      <td>-0.052382</td>\n",
       "      <td>0.210616</td>\n",
       "      <td>-0.005917</td>\n",
       "      <td>0.510386</td>\n",
       "      <td>-0.083918</td>\n",
       "      <td>-0.009370</td>\n",
       "    </tr>\n",
       "    <tr>\n",
       "      <th>width</th>\n",
       "      <td>-0.237262</td>\n",
       "      <td>0.061155</td>\n",
       "      <td>0.814593</td>\n",
       "      <td>0.857271</td>\n",
       "      <td>1.000000</td>\n",
       "      <td>0.300995</td>\n",
       "      <td>0.867720</td>\n",
       "      <td>0.731100</td>\n",
       "      <td>0.189008</td>\n",
       "      <td>0.615860</td>\n",
       "      <td>...</td>\n",
       "      <td>0.158900</td>\n",
       "      <td>-0.013485</td>\n",
       "      <td>-0.199469</td>\n",
       "      <td>-0.520552</td>\n",
       "      <td>-0.011648</td>\n",
       "      <td>0.243448</td>\n",
       "      <td>0.013585</td>\n",
       "      <td>0.456085</td>\n",
       "      <td>-0.046936</td>\n",
       "      <td>-0.023588</td>\n",
       "    </tr>\n",
       "    <tr>\n",
       "      <th>...</th>\n",
       "      <td>...</td>\n",
       "      <td>...</td>\n",
       "      <td>...</td>\n",
       "      <td>...</td>\n",
       "      <td>...</td>\n",
       "      <td>...</td>\n",
       "      <td>...</td>\n",
       "      <td>...</td>\n",
       "      <td>...</td>\n",
       "      <td>...</td>\n",
       "      <td>...</td>\n",
       "      <td>...</td>\n",
       "      <td>...</td>\n",
       "      <td>...</td>\n",
       "      <td>...</td>\n",
       "      <td>...</td>\n",
       "      <td>...</td>\n",
       "      <td>...</td>\n",
       "      <td>...</td>\n",
       "      <td>...</td>\n",
       "      <td>...</td>\n",
       "    </tr>\n",
       "    <tr>\n",
       "      <th>fuel-system_idi</th>\n",
       "      <td>-0.195381</td>\n",
       "      <td>-0.106304</td>\n",
       "      <td>0.306706</td>\n",
       "      <td>0.210616</td>\n",
       "      <td>0.243448</td>\n",
       "      <td>0.281198</td>\n",
       "      <td>0.221082</td>\n",
       "      <td>0.070925</td>\n",
       "      <td>0.985228</td>\n",
       "      <td>-0.167627</td>\n",
       "      <td>...</td>\n",
       "      <td>-0.023629</td>\n",
       "      <td>-0.047619</td>\n",
       "      <td>-0.080416</td>\n",
       "      <td>-0.228665</td>\n",
       "      <td>-0.041135</td>\n",
       "      <td>1.000000</td>\n",
       "      <td>-0.023629</td>\n",
       "      <td>-0.304569</td>\n",
       "      <td>-0.072357</td>\n",
       "      <td>-0.023629</td>\n",
       "    </tr>\n",
       "    <tr>\n",
       "      <th>fuel-system_mfi</th>\n",
       "      <td>0.123513</td>\n",
       "      <td>0.053560</td>\n",
       "      <td>-0.034696</td>\n",
       "      <td>-0.005917</td>\n",
       "      <td>0.013585</td>\n",
       "      <td>-0.105101</td>\n",
       "      <td>0.034985</td>\n",
       "      <td>0.049720</td>\n",
       "      <td>-0.056123</td>\n",
       "      <td>0.079185</td>\n",
       "      <td>...</td>\n",
       "      <td>-0.005025</td>\n",
       "      <td>-0.010127</td>\n",
       "      <td>-0.017102</td>\n",
       "      <td>-0.048629</td>\n",
       "      <td>-0.008748</td>\n",
       "      <td>-0.023629</td>\n",
       "      <td>1.000000</td>\n",
       "      <td>-0.064771</td>\n",
       "      <td>-0.015388</td>\n",
       "      <td>-0.005025</td>\n",
       "    </tr>\n",
       "    <tr>\n",
       "      <th>fuel-system_mpfi</th>\n",
       "      <td>0.003789</td>\n",
       "      <td>0.183140</td>\n",
       "      <td>0.359298</td>\n",
       "      <td>0.510386</td>\n",
       "      <td>0.456085</td>\n",
       "      <td>0.127971</td>\n",
       "      <td>0.510248</td>\n",
       "      <td>0.476765</td>\n",
       "      <td>-0.310866</td>\n",
       "      <td>0.636346</td>\n",
       "      <td>...</td>\n",
       "      <td>0.077583</td>\n",
       "      <td>-0.058810</td>\n",
       "      <td>-0.220431</td>\n",
       "      <td>-0.626799</td>\n",
       "      <td>-0.112755</td>\n",
       "      <td>-0.304569</td>\n",
       "      <td>-0.064771</td>\n",
       "      <td>1.000000</td>\n",
       "      <td>-0.198341</td>\n",
       "      <td>-0.064771</td>\n",
       "    </tr>\n",
       "    <tr>\n",
       "      <th>fuel-system_spdi</th>\n",
       "      <td>0.184559</td>\n",
       "      <td>0.051334</td>\n",
       "      <td>-0.121862</td>\n",
       "      <td>-0.083918</td>\n",
       "      <td>-0.046936</td>\n",
       "      <td>-0.289978</td>\n",
       "      <td>-0.002534</td>\n",
       "      <td>0.004795</td>\n",
       "      <td>-0.155595</td>\n",
       "      <td>0.130848</td>\n",
       "      <td>...</td>\n",
       "      <td>-0.015388</td>\n",
       "      <td>-0.031010</td>\n",
       "      <td>-0.052368</td>\n",
       "      <td>-0.148910</td>\n",
       "      <td>-0.026787</td>\n",
       "      <td>-0.072357</td>\n",
       "      <td>-0.015388</td>\n",
       "      <td>-0.198341</td>\n",
       "      <td>1.000000</td>\n",
       "      <td>-0.015388</td>\n",
       "    </tr>\n",
       "    <tr>\n",
       "      <th>fuel-system_spfi</th>\n",
       "      <td>0.066595</td>\n",
       "      <td>-0.012672</td>\n",
       "      <td>-0.033519</td>\n",
       "      <td>-0.009370</td>\n",
       "      <td>-0.023588</td>\n",
       "      <td>-0.069985</td>\n",
       "      <td>0.024433</td>\n",
       "      <td>-0.013411</td>\n",
       "      <td>-0.017174</td>\n",
       "      <td>-0.025123</td>\n",
       "      <td>...</td>\n",
       "      <td>-0.005025</td>\n",
       "      <td>-0.010127</td>\n",
       "      <td>-0.017102</td>\n",
       "      <td>-0.048629</td>\n",
       "      <td>-0.008748</td>\n",
       "      <td>-0.023629</td>\n",
       "      <td>-0.005025</td>\n",
       "      <td>-0.064771</td>\n",
       "      <td>-0.015388</td>\n",
       "      <td>1.000000</td>\n",
       "    </tr>\n",
       "  </tbody>\n",
       "</table>\n",
       "<p>75 rows × 75 columns</p>\n",
       "</div>"
      ],
      "text/plain": [
       "                   symboling  normalized-losses  wheel-base    length  \\\n",
       "symboling           1.000000           0.462765   -0.529145 -0.364511   \n",
       "normalized-losses   0.462765           1.000000   -0.077168 -0.009513   \n",
       "wheel-base         -0.529145          -0.077168    1.000000  0.879005   \n",
       "length             -0.364511          -0.009513    0.879005  1.000000   \n",
       "width              -0.237262           0.061155    0.814593  0.857271   \n",
       "...                      ...                ...         ...       ...   \n",
       "fuel-system_idi    -0.195381          -0.106304    0.306706  0.210616   \n",
       "fuel-system_mfi     0.123513           0.053560   -0.034696 -0.005917   \n",
       "fuel-system_mpfi    0.003789           0.183140    0.359298  0.510386   \n",
       "fuel-system_spdi    0.184559           0.051334   -0.121862 -0.083918   \n",
       "fuel-system_spfi    0.066595          -0.012672   -0.033519 -0.009370   \n",
       "\n",
       "                      width    height  curb-weight  engine-size  \\\n",
       "symboling         -0.237262 -0.542261    -0.234743    -0.112069   \n",
       "normalized-losses  0.061155 -0.377599     0.065385     0.073660   \n",
       "wheel-base         0.814593  0.583789     0.787584     0.576779   \n",
       "length             0.857271  0.492955     0.881058     0.685531   \n",
       "width              1.000000  0.300995     0.867720     0.731100   \n",
       "...                     ...       ...          ...          ...   \n",
       "fuel-system_idi    0.243448  0.281198     0.221082     0.070925   \n",
       "fuel-system_mfi    0.013585 -0.105101     0.034985     0.049720   \n",
       "fuel-system_mpfi   0.456085  0.127971     0.510248     0.476765   \n",
       "fuel-system_spdi  -0.046936 -0.289978    -0.002534     0.004795   \n",
       "fuel-system_spfi  -0.023588 -0.069985     0.024433    -0.013411   \n",
       "\n",
       "                   compression-ratio  horsepower  ...  cylinder_twelve  \\\n",
       "symboling                  -0.181073    0.074170  ...        -0.047242   \n",
       "normalized-losses          -0.116261    0.182796  ...        -0.012672   \n",
       "wheel-base                  0.249689    0.376887  ...         0.037097   \n",
       "length                      0.159203    0.579059  ...         0.100563   \n",
       "width                       0.189008    0.615860  ...         0.158900   \n",
       "...                              ...         ...  ...              ...   \n",
       "fuel-system_idi             0.985228   -0.167627  ...        -0.023629   \n",
       "fuel-system_mfi            -0.056123    0.079185  ...        -0.005025   \n",
       "fuel-system_mpfi           -0.310866    0.636346  ...         0.077583   \n",
       "fuel-system_spdi           -0.155595    0.130848  ...        -0.015388   \n",
       "fuel-system_spfi           -0.017174   -0.025123  ...        -0.005025   \n",
       "\n",
       "                   cylinder_two  fuel-system_1bbl  fuel-system_2bbl  \\\n",
       "symboling              0.248910         -0.037509         -0.026852   \n",
       "normalized-losses      0.130181         -0.123726         -0.124969   \n",
       "wheel-base            -0.084152         -0.196729         -0.401245   \n",
       "length                -0.060640         -0.304517         -0.478216   \n",
       "width                 -0.013485         -0.199469         -0.520552   \n",
       "...                         ...               ...               ...   \n",
       "fuel-system_idi       -0.047619         -0.080416         -0.228665   \n",
       "fuel-system_mfi       -0.010127         -0.017102         -0.048629   \n",
       "fuel-system_mpfi      -0.058810         -0.220431         -0.626799   \n",
       "fuel-system_spdi      -0.031010         -0.052368         -0.148910   \n",
       "fuel-system_spfi      -0.010127         -0.017102         -0.048629   \n",
       "\n",
       "                   fuel-system_4bbl  fuel-system_idi  fuel-system_mfi  \\\n",
       "symboling                  0.215014        -0.195381         0.123513   \n",
       "normalized-losses          0.112454        -0.106304         0.053560   \n",
       "wheel-base                -0.072692         0.306706        -0.034696   \n",
       "length                    -0.052382         0.210616        -0.005917   \n",
       "width                     -0.011648         0.243448         0.013585   \n",
       "...                             ...              ...              ...   \n",
       "fuel-system_idi           -0.041135         1.000000        -0.023629   \n",
       "fuel-system_mfi           -0.008748        -0.023629         1.000000   \n",
       "fuel-system_mpfi          -0.112755        -0.304569        -0.064771   \n",
       "fuel-system_spdi          -0.026787        -0.072357        -0.015388   \n",
       "fuel-system_spfi          -0.008748        -0.023629        -0.005025   \n",
       "\n",
       "                   fuel-system_mpfi  fuel-system_spdi  fuel-system_spfi  \n",
       "symboling                  0.003789          0.184559          0.066595  \n",
       "normalized-losses          0.183140          0.051334         -0.012672  \n",
       "wheel-base                 0.359298         -0.121862         -0.033519  \n",
       "length                     0.510386         -0.083918         -0.009370  \n",
       "width                      0.456085         -0.046936         -0.023588  \n",
       "...                             ...               ...               ...  \n",
       "fuel-system_idi           -0.304569         -0.072357         -0.023629  \n",
       "fuel-system_mfi           -0.064771         -0.015388         -0.005025  \n",
       "fuel-system_mpfi           1.000000         -0.198341         -0.064771  \n",
       "fuel-system_spdi          -0.198341          1.000000         -0.015388  \n",
       "fuel-system_spfi          -0.064771         -0.015388          1.000000  \n",
       "\n",
       "[75 rows x 75 columns]"
      ]
     },
     "execution_count": 595,
     "metadata": {},
     "output_type": "execute_result"
    }
   ],
   "source": [
    "Data.corr()"
   ]
  },
  {
   "cell_type": "code",
   "execution_count": null,
   "id": "9258364a",
   "metadata": {},
   "outputs": [],
   "source": []
  },
  {
   "cell_type": "markdown",
   "id": "45bd985e",
   "metadata": {},
   "source": [
    "Making use of XGBoost to predict the price"
   ]
  },
  {
   "cell_type": "code",
   "execution_count": 597,
   "id": "5d1886b5",
   "metadata": {},
   "outputs": [],
   "source": [
    "from xgboost import XGBRegressor\n",
    "from sklearn.model_selection import train_test_split\n",
    "from sklearn.metrics import mean_absolute_error"
   ]
  },
  {
   "cell_type": "code",
   "execution_count": 598,
   "id": "b87cc2cf",
   "metadata": {},
   "outputs": [],
   "source": [
    "model = XGBRegressor()\n",
    "\n",
    "X = Data.drop(columns = [\"price\"], inplace = False)"
   ]
  },
  {
   "cell_type": "code",
   "execution_count": null,
   "id": "b2623017",
   "metadata": {},
   "outputs": [],
   "source": [
    "y = Data[\"price\"]\n",
    "\n",
    "X_train, X_test, y_train, y_test = train_test_split(X, y, test_size = 0.2, random_state = 42)"
   ]
  },
  {
   "cell_type": "code",
   "execution_count": 600,
   "id": "f5a93dad",
   "metadata": {},
   "outputs": [
    {
     "data": {
      "text/html": [
       "<style>#sk-container-id-7 {color: black;background-color: white;}#sk-container-id-7 pre{padding: 0;}#sk-container-id-7 div.sk-toggleable {background-color: white;}#sk-container-id-7 label.sk-toggleable__label {cursor: pointer;display: block;width: 100%;margin-bottom: 0;padding: 0.3em;box-sizing: border-box;text-align: center;}#sk-container-id-7 label.sk-toggleable__label-arrow:before {content: \"▸\";float: left;margin-right: 0.25em;color: #696969;}#sk-container-id-7 label.sk-toggleable__label-arrow:hover:before {color: black;}#sk-container-id-7 div.sk-estimator:hover label.sk-toggleable__label-arrow:before {color: black;}#sk-container-id-7 div.sk-toggleable__content {max-height: 0;max-width: 0;overflow: hidden;text-align: left;background-color: #f0f8ff;}#sk-container-id-7 div.sk-toggleable__content pre {margin: 0.2em;color: black;border-radius: 0.25em;background-color: #f0f8ff;}#sk-container-id-7 input.sk-toggleable__control:checked~div.sk-toggleable__content {max-height: 200px;max-width: 100%;overflow: auto;}#sk-container-id-7 input.sk-toggleable__control:checked~label.sk-toggleable__label-arrow:before {content: \"▾\";}#sk-container-id-7 div.sk-estimator input.sk-toggleable__control:checked~label.sk-toggleable__label {background-color: #d4ebff;}#sk-container-id-7 div.sk-label input.sk-toggleable__control:checked~label.sk-toggleable__label {background-color: #d4ebff;}#sk-container-id-7 input.sk-hidden--visually {border: 0;clip: rect(1px 1px 1px 1px);clip: rect(1px, 1px, 1px, 1px);height: 1px;margin: -1px;overflow: hidden;padding: 0;position: absolute;width: 1px;}#sk-container-id-7 div.sk-estimator {font-family: monospace;background-color: #f0f8ff;border: 1px dotted black;border-radius: 0.25em;box-sizing: border-box;margin-bottom: 0.5em;}#sk-container-id-7 div.sk-estimator:hover {background-color: #d4ebff;}#sk-container-id-7 div.sk-parallel-item::after {content: \"\";width: 100%;border-bottom: 1px solid gray;flex-grow: 1;}#sk-container-id-7 div.sk-label:hover label.sk-toggleable__label {background-color: #d4ebff;}#sk-container-id-7 div.sk-serial::before {content: \"\";position: absolute;border-left: 1px solid gray;box-sizing: border-box;top: 0;bottom: 0;left: 50%;z-index: 0;}#sk-container-id-7 div.sk-serial {display: flex;flex-direction: column;align-items: center;background-color: white;padding-right: 0.2em;padding-left: 0.2em;position: relative;}#sk-container-id-7 div.sk-item {position: relative;z-index: 1;}#sk-container-id-7 div.sk-parallel {display: flex;align-items: stretch;justify-content: center;background-color: white;position: relative;}#sk-container-id-7 div.sk-item::before, #sk-container-id-7 div.sk-parallel-item::before {content: \"\";position: absolute;border-left: 1px solid gray;box-sizing: border-box;top: 0;bottom: 0;left: 50%;z-index: -1;}#sk-container-id-7 div.sk-parallel-item {display: flex;flex-direction: column;z-index: 1;position: relative;background-color: white;}#sk-container-id-7 div.sk-parallel-item:first-child::after {align-self: flex-end;width: 50%;}#sk-container-id-7 div.sk-parallel-item:last-child::after {align-self: flex-start;width: 50%;}#sk-container-id-7 div.sk-parallel-item:only-child::after {width: 0;}#sk-container-id-7 div.sk-dashed-wrapped {border: 1px dashed gray;margin: 0 0.4em 0.5em 0.4em;box-sizing: border-box;padding-bottom: 0.4em;background-color: white;}#sk-container-id-7 div.sk-label label {font-family: monospace;font-weight: bold;display: inline-block;line-height: 1.2em;}#sk-container-id-7 div.sk-label-container {text-align: center;}#sk-container-id-7 div.sk-container {/* jupyter's `normalize.less` sets `[hidden] { display: none; }` but bootstrap.min.css set `[hidden] { display: none !important; }` so we also need the `!important` here to be able to override the default hidden behavior on the sphinx rendered scikit-learn.org. See: https://github.com/scikit-learn/scikit-learn/issues/21755 */display: inline-block !important;position: relative;}#sk-container-id-7 div.sk-text-repr-fallback {display: none;}</style><div id=\"sk-container-id-7\" class=\"sk-top-container\"><div class=\"sk-text-repr-fallback\"><pre>XGBRegressor(base_score=None, booster=None, callbacks=None,\n",
       "             colsample_bylevel=None, colsample_bynode=None,\n",
       "             colsample_bytree=None, device=None, early_stopping_rounds=None,\n",
       "             enable_categorical=False, eval_metric=None, feature_types=None,\n",
       "             gamma=None, grow_policy=None, importance_type=None,\n",
       "             interaction_constraints=None, learning_rate=None, max_bin=None,\n",
       "             max_cat_threshold=None, max_cat_to_onehot=None,\n",
       "             max_delta_step=None, max_depth=None, max_leaves=None,\n",
       "             min_child_weight=None, missing=nan, monotone_constraints=None,\n",
       "             multi_strategy=None, n_estimators=None, n_jobs=None,\n",
       "             num_parallel_tree=None, random_state=None, ...)</pre><b>In a Jupyter environment, please rerun this cell to show the HTML representation or trust the notebook. <br />On GitHub, the HTML representation is unable to render, please try loading this page with nbviewer.org.</b></div><div class=\"sk-container\" hidden><div class=\"sk-item\"><div class=\"sk-estimator sk-toggleable\"><input class=\"sk-toggleable__control sk-hidden--visually\" id=\"sk-estimator-id-7\" type=\"checkbox\" checked><label for=\"sk-estimator-id-7\" class=\"sk-toggleable__label sk-toggleable__label-arrow\">XGBRegressor</label><div class=\"sk-toggleable__content\"><pre>XGBRegressor(base_score=None, booster=None, callbacks=None,\n",
       "             colsample_bylevel=None, colsample_bynode=None,\n",
       "             colsample_bytree=None, device=None, early_stopping_rounds=None,\n",
       "             enable_categorical=False, eval_metric=None, feature_types=None,\n",
       "             gamma=None, grow_policy=None, importance_type=None,\n",
       "             interaction_constraints=None, learning_rate=None, max_bin=None,\n",
       "             max_cat_threshold=None, max_cat_to_onehot=None,\n",
       "             max_delta_step=None, max_depth=None, max_leaves=None,\n",
       "             min_child_weight=None, missing=nan, monotone_constraints=None,\n",
       "             multi_strategy=None, n_estimators=None, n_jobs=None,\n",
       "             num_parallel_tree=None, random_state=None, ...)</pre></div></div></div></div></div>"
      ],
      "text/plain": [
       "XGBRegressor(base_score=None, booster=None, callbacks=None,\n",
       "             colsample_bylevel=None, colsample_bynode=None,\n",
       "             colsample_bytree=None, device=None, early_stopping_rounds=None,\n",
       "             enable_categorical=False, eval_metric=None, feature_types=None,\n",
       "             gamma=None, grow_policy=None, importance_type=None,\n",
       "             interaction_constraints=None, learning_rate=None, max_bin=None,\n",
       "             max_cat_threshold=None, max_cat_to_onehot=None,\n",
       "             max_delta_step=None, max_depth=None, max_leaves=None,\n",
       "             min_child_weight=None, missing=nan, monotone_constraints=None,\n",
       "             multi_strategy=None, n_estimators=None, n_jobs=None,\n",
       "             num_parallel_tree=None, random_state=None, ...)"
      ]
     },
     "execution_count": 600,
     "metadata": {},
     "output_type": "execute_result"
    }
   ],
   "source": [
    "model.fit(X_train, y_train)"
   ]
  },
  {
   "cell_type": "code",
   "execution_count": 602,
   "id": "0f510368",
   "metadata": {},
   "outputs": [],
   "source": [
    "predicted = model.predict(X_test)"
   ]
  },
  {
   "cell_type": "code",
   "execution_count": 603,
   "id": "5e01404c",
   "metadata": {},
   "outputs": [
    {
     "data": {
      "text/plain": [
       "1390.6099487304687"
      ]
     },
     "execution_count": 603,
     "metadata": {},
     "output_type": "execute_result"
    }
   ],
   "source": [
    "mean_absolute_error(predicted, y_test)"
   ]
  },
  {
   "cell_type": "markdown",
   "id": "206423ad",
   "metadata": {},
   "source": [
    "The mean absolute error from using xgboost is 1390.6"
   ]
  },
  {
   "cell_type": "markdown",
   "id": "50c29e8e",
   "metadata": {},
   "source": [
    "Using Neural Networks to do the prediction"
   ]
  },
  {
   "cell_type": "code",
   "execution_count": 605,
   "id": "f7da06dc",
   "metadata": {},
   "outputs": [],
   "source": [
    "from tensorflow.keras.layers import Dense\n",
    "from tensorflow.keras.models import Sequential\n",
    "from tensorflow.keras.callbacks import EarlyStopping"
   ]
  },
  {
   "cell_type": "code",
   "execution_count": 609,
   "id": "aed9e99a",
   "metadata": {},
   "outputs": [],
   "source": [
    "n_col = X.shape[1]"
   ]
  },
  {
   "cell_type": "code",
   "execution_count": 614,
   "id": "da9908ae",
   "metadata": {},
   "outputs": [
    {
     "name": "stdout",
     "output_type": "stream",
     "text": [
      "Epoch 1/15\n",
      "5/5 [==============================] - 1s 65ms/step - loss: 12230.3506 - val_loss: 13670.8965\n",
      "Epoch 2/15\n",
      "5/5 [==============================] - 0s 15ms/step - loss: 11213.7822 - val_loss: 12567.8213\n",
      "Epoch 3/15\n",
      "5/5 [==============================] - 0s 16ms/step - loss: 9962.9424 - val_loss: 11097.9473\n",
      "Epoch 4/15\n",
      "5/5 [==============================] - 0s 15ms/step - loss: 8248.5947 - val_loss: 9073.5732\n",
      "Epoch 5/15\n",
      "5/5 [==============================] - 0s 13ms/step - loss: 6112.7524 - val_loss: 6858.1182\n",
      "Epoch 6/15\n",
      "5/5 [==============================] - 0s 12ms/step - loss: 4958.5107 - val_loss: 6598.6826\n",
      "Epoch 7/15\n",
      "5/5 [==============================] - 0s 13ms/step - loss: 4757.1572 - val_loss: 6954.0781\n",
      "Epoch 8/15\n",
      "5/5 [==============================] - 0s 12ms/step - loss: 4978.5342 - val_loss: 6908.2627\n",
      "Epoch 9/15\n",
      "5/5 [==============================] - 0s 13ms/step - loss: 4762.3267 - val_loss: 6524.9868\n",
      "Epoch 10/15\n",
      "5/5 [==============================] - 0s 14ms/step - loss: 4565.3818 - val_loss: 6371.6904\n",
      "Epoch 11/15\n",
      "5/5 [==============================] - 0s 13ms/step - loss: 4510.1167 - val_loss: 6290.0859\n",
      "Epoch 12/15\n",
      "5/5 [==============================] - 0s 13ms/step - loss: 4465.6548 - val_loss: 6222.8423\n",
      "Epoch 13/15\n",
      "5/5 [==============================] - 0s 12ms/step - loss: 4378.1084 - val_loss: 6159.4077\n",
      "Epoch 14/15\n",
      "5/5 [==============================] - 0s 13ms/step - loss: 4283.3135 - val_loss: 6125.1528\n",
      "Epoch 15/15\n",
      "5/5 [==============================] - 0s 12ms/step - loss: 4204.3491 - val_loss: 6087.9639\n"
     ]
    },
    {
     "data": {
      "text/plain": [
       "<keras.src.callbacks.History at 0x1beffdb3610>"
      ]
     },
     "execution_count": 614,
     "metadata": {},
     "output_type": "execute_result"
    }
   ],
   "source": [
    "model = Sequential()\n",
    "\n",
    "model.add(Dense(100, activation = 'relu', input_shape = (n_col,)))\n",
    "model.add(Dense(100, activation = 'relu'))\n",
    "model.add(Dense(100, activation = 'relu'))\n",
    "model.add(Dense(1))\n",
    "\n",
    "model.compile(optimizer = 'adam', loss = 'mean_absolute_error')\n",
    "\n",
    "early_stopping = EarlyStopping(patience = 3, monitor = 'val_loss')\n",
    "\n",
    "model.fit(X_train, y_train, validation_data = (X_test, y_test), callbacks = [early_stopping], epochs = 15)"
   ]
  },
  {
   "cell_type": "markdown",
   "id": "1baf9e06",
   "metadata": {},
   "source": [
    "The lowest mean absolute error gotten from using neural networks to make prediction is 6087.96 which is still much higher than the the mean absolute error gotten when xgboost was used to make prediction (1390.6)\n",
    "\n",
    "Indicating that in this case the XGBoost model was better than the neural networks in predicting the automobile price"
   ]
  },
  {
   "cell_type": "code",
   "execution_count": null,
   "id": "b478630a",
   "metadata": {},
   "outputs": [],
   "source": []
  }
 ],
 "metadata": {
  "kernelspec": {
   "display_name": "Python 3 (ipykernel)",
   "language": "python",
   "name": "python3"
  },
  "language_info": {
   "codemirror_mode": {
    "name": "ipython",
    "version": 3
   },
   "file_extension": ".py",
   "mimetype": "text/x-python",
   "name": "python",
   "nbconvert_exporter": "python",
   "pygments_lexer": "ipython3",
   "version": "3.11.3"
  }
 },
 "nbformat": 4,
 "nbformat_minor": 5
}
